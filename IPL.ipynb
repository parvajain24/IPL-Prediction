{
 "cells": [
  {
   "cell_type": "markdown",
   "metadata": {},
   "source": [
    "# **Introduction**\n",
    "Being a cricket fan, visualizing the statistics of cricket is mesmerizing.I was fascinated by the analysis done. Hence, I decided to get my first hands-on experience by building a classifier to predict the winning team of each IPL Match using Machine learning techniques.\n",
    "\n",
    "1. [Importing Data](#t1.)\n",
    "2. [Assess Data Quality & Missing Values](#t2.)\n",
    "3. [Exploratory Data Analysis](#t3.)\n",
    "4. [Encoding Categotical Features](#t4.)\n",
    "5. [Feature Selection](#t5.)\n",
    "6. [Model Building](#t6.)\n",
    "7. [Model Testing](#t7.)"
   ]
  },
  {
   "cell_type": "markdown",
   "metadata": {},
   "source": [
    "<a id=\"t1.\"></a>\n",
    "# 1. Import Data & Python Packages"
   ]
  },
  {
   "cell_type": "code",
   "execution_count": 1,
   "metadata": {},
   "outputs": [],
   "source": [
    "import numpy as np \n",
    "import pandas as pd \n",
    "import seaborn as sns\n",
    "import matplotlib.pyplot as plt"
   ]
  },
  {
   "cell_type": "code",
   "execution_count": 2,
   "metadata": {},
   "outputs": [
    {
     "name": "stdout",
     "output_type": "stream",
     "text": [
      "<class 'pandas.core.frame.DataFrame'>\n",
      "RangeIndex: 756 entries, 0 to 755\n",
      "Data columns (total 18 columns):\n",
      "id                 756 non-null int64\n",
      "season             756 non-null int64\n",
      "city               749 non-null object\n",
      "date               756 non-null object\n",
      "team1              756 non-null object\n",
      "team2              756 non-null object\n",
      "toss_winner        756 non-null object\n",
      "toss_decision      756 non-null object\n",
      "result             756 non-null object\n",
      "dl_applied         756 non-null int64\n",
      "winner             752 non-null object\n",
      "win_by_runs        756 non-null int64\n",
      "win_by_wickets     756 non-null int64\n",
      "player_of_match    752 non-null object\n",
      "venue              756 non-null object\n",
      "umpire1            754 non-null object\n",
      "umpire2            754 non-null object\n",
      "umpire3            119 non-null object\n",
      "dtypes: int64(5), object(13)\n",
      "memory usage: 106.4+ KB\n"
     ]
    }
   ],
   "source": [
    "matches=pd.read_csv('matches.csv')\n",
    "matches.info()"
   ]
  },
  {
   "cell_type": "code",
   "execution_count": 3,
   "metadata": {},
   "outputs": [
    {
     "data": {
      "text/plain": [
       "(756, 18)"
      ]
     },
     "execution_count": 3,
     "metadata": {},
     "output_type": "execute_result"
    }
   ],
   "source": [
    "matches.shape"
   ]
  },
  {
   "cell_type": "code",
   "execution_count": 4,
   "metadata": {
    "scrolled": true
   },
   "outputs": [
    {
     "data": {
      "text/html": [
       "<div>\n",
       "<style scoped>\n",
       "    .dataframe tbody tr th:only-of-type {\n",
       "        vertical-align: middle;\n",
       "    }\n",
       "\n",
       "    .dataframe tbody tr th {\n",
       "        vertical-align: top;\n",
       "    }\n",
       "\n",
       "    .dataframe thead th {\n",
       "        text-align: right;\n",
       "    }\n",
       "</style>\n",
       "<table border=\"1\" class=\"dataframe\">\n",
       "  <thead>\n",
       "    <tr style=\"text-align: right;\">\n",
       "      <th></th>\n",
       "      <th>id</th>\n",
       "      <th>season</th>\n",
       "      <th>city</th>\n",
       "      <th>date</th>\n",
       "      <th>team1</th>\n",
       "      <th>team2</th>\n",
       "      <th>toss_winner</th>\n",
       "      <th>toss_decision</th>\n",
       "      <th>result</th>\n",
       "      <th>dl_applied</th>\n",
       "      <th>winner</th>\n",
       "      <th>win_by_runs</th>\n",
       "      <th>win_by_wickets</th>\n",
       "      <th>player_of_match</th>\n",
       "      <th>venue</th>\n",
       "      <th>umpire1</th>\n",
       "      <th>umpire2</th>\n",
       "      <th>umpire3</th>\n",
       "    </tr>\n",
       "  </thead>\n",
       "  <tbody>\n",
       "    <tr>\n",
       "      <td>0</td>\n",
       "      <td>1</td>\n",
       "      <td>2017</td>\n",
       "      <td>Hyderabad</td>\n",
       "      <td>2017-04-05</td>\n",
       "      <td>Sunrisers Hyderabad</td>\n",
       "      <td>Royal Challengers Bangalore</td>\n",
       "      <td>Royal Challengers Bangalore</td>\n",
       "      <td>field</td>\n",
       "      <td>normal</td>\n",
       "      <td>0</td>\n",
       "      <td>Sunrisers Hyderabad</td>\n",
       "      <td>35</td>\n",
       "      <td>0</td>\n",
       "      <td>Yuvraj Singh</td>\n",
       "      <td>Rajiv Gandhi International Stadium, Uppal</td>\n",
       "      <td>AY Dandekar</td>\n",
       "      <td>NJ Llong</td>\n",
       "      <td>NaN</td>\n",
       "    </tr>\n",
       "    <tr>\n",
       "      <td>1</td>\n",
       "      <td>2</td>\n",
       "      <td>2017</td>\n",
       "      <td>Pune</td>\n",
       "      <td>2017-04-06</td>\n",
       "      <td>Mumbai Indians</td>\n",
       "      <td>Rising Pune Supergiant</td>\n",
       "      <td>Rising Pune Supergiant</td>\n",
       "      <td>field</td>\n",
       "      <td>normal</td>\n",
       "      <td>0</td>\n",
       "      <td>Rising Pune Supergiant</td>\n",
       "      <td>0</td>\n",
       "      <td>7</td>\n",
       "      <td>SPD Smith</td>\n",
       "      <td>Maharashtra Cricket Association Stadium</td>\n",
       "      <td>A Nand Kishore</td>\n",
       "      <td>S Ravi</td>\n",
       "      <td>NaN</td>\n",
       "    </tr>\n",
       "    <tr>\n",
       "      <td>2</td>\n",
       "      <td>3</td>\n",
       "      <td>2017</td>\n",
       "      <td>Rajkot</td>\n",
       "      <td>2017-04-07</td>\n",
       "      <td>Gujarat Lions</td>\n",
       "      <td>Kolkata Knight Riders</td>\n",
       "      <td>Kolkata Knight Riders</td>\n",
       "      <td>field</td>\n",
       "      <td>normal</td>\n",
       "      <td>0</td>\n",
       "      <td>Kolkata Knight Riders</td>\n",
       "      <td>0</td>\n",
       "      <td>10</td>\n",
       "      <td>CA Lynn</td>\n",
       "      <td>Saurashtra Cricket Association Stadium</td>\n",
       "      <td>Nitin Menon</td>\n",
       "      <td>CK Nandan</td>\n",
       "      <td>NaN</td>\n",
       "    </tr>\n",
       "    <tr>\n",
       "      <td>3</td>\n",
       "      <td>4</td>\n",
       "      <td>2017</td>\n",
       "      <td>Indore</td>\n",
       "      <td>2017-04-08</td>\n",
       "      <td>Rising Pune Supergiant</td>\n",
       "      <td>Kings XI Punjab</td>\n",
       "      <td>Kings XI Punjab</td>\n",
       "      <td>field</td>\n",
       "      <td>normal</td>\n",
       "      <td>0</td>\n",
       "      <td>Kings XI Punjab</td>\n",
       "      <td>0</td>\n",
       "      <td>6</td>\n",
       "      <td>GJ Maxwell</td>\n",
       "      <td>Holkar Cricket Stadium</td>\n",
       "      <td>AK Chaudhary</td>\n",
       "      <td>C Shamshuddin</td>\n",
       "      <td>NaN</td>\n",
       "    </tr>\n",
       "    <tr>\n",
       "      <td>4</td>\n",
       "      <td>5</td>\n",
       "      <td>2017</td>\n",
       "      <td>Bangalore</td>\n",
       "      <td>2017-04-08</td>\n",
       "      <td>Royal Challengers Bangalore</td>\n",
       "      <td>Delhi Daredevils</td>\n",
       "      <td>Royal Challengers Bangalore</td>\n",
       "      <td>bat</td>\n",
       "      <td>normal</td>\n",
       "      <td>0</td>\n",
       "      <td>Royal Challengers Bangalore</td>\n",
       "      <td>15</td>\n",
       "      <td>0</td>\n",
       "      <td>KM Jadhav</td>\n",
       "      <td>M Chinnaswamy Stadium</td>\n",
       "      <td>NaN</td>\n",
       "      <td>NaN</td>\n",
       "      <td>NaN</td>\n",
       "    </tr>\n",
       "  </tbody>\n",
       "</table>\n",
       "</div>"
      ],
      "text/plain": [
       "   id  season       city        date                        team1  \\\n",
       "0   1    2017  Hyderabad  2017-04-05          Sunrisers Hyderabad   \n",
       "1   2    2017       Pune  2017-04-06               Mumbai Indians   \n",
       "2   3    2017     Rajkot  2017-04-07                Gujarat Lions   \n",
       "3   4    2017     Indore  2017-04-08       Rising Pune Supergiant   \n",
       "4   5    2017  Bangalore  2017-04-08  Royal Challengers Bangalore   \n",
       "\n",
       "                         team2                  toss_winner toss_decision  \\\n",
       "0  Royal Challengers Bangalore  Royal Challengers Bangalore         field   \n",
       "1       Rising Pune Supergiant       Rising Pune Supergiant         field   \n",
       "2        Kolkata Knight Riders        Kolkata Knight Riders         field   \n",
       "3              Kings XI Punjab              Kings XI Punjab         field   \n",
       "4             Delhi Daredevils  Royal Challengers Bangalore           bat   \n",
       "\n",
       "   result  dl_applied                       winner  win_by_runs  \\\n",
       "0  normal           0          Sunrisers Hyderabad           35   \n",
       "1  normal           0       Rising Pune Supergiant            0   \n",
       "2  normal           0        Kolkata Knight Riders            0   \n",
       "3  normal           0              Kings XI Punjab            0   \n",
       "4  normal           0  Royal Challengers Bangalore           15   \n",
       "\n",
       "   win_by_wickets player_of_match                                      venue  \\\n",
       "0               0    Yuvraj Singh  Rajiv Gandhi International Stadium, Uppal   \n",
       "1               7       SPD Smith    Maharashtra Cricket Association Stadium   \n",
       "2              10         CA Lynn     Saurashtra Cricket Association Stadium   \n",
       "3               6      GJ Maxwell                     Holkar Cricket Stadium   \n",
       "4               0       KM Jadhav                      M Chinnaswamy Stadium   \n",
       "\n",
       "          umpire1        umpire2 umpire3  \n",
       "0     AY Dandekar       NJ Llong     NaN  \n",
       "1  A Nand Kishore         S Ravi     NaN  \n",
       "2     Nitin Menon      CK Nandan     NaN  \n",
       "3    AK Chaudhary  C Shamshuddin     NaN  \n",
       "4             NaN            NaN     NaN  "
      ]
     },
     "execution_count": 4,
     "metadata": {},
     "output_type": "execute_result"
    }
   ],
   "source": [
    "matches.head()"
   ]
  },
  {
   "cell_type": "markdown",
   "metadata": {},
   "source": [
    "<a id=\"t2.\"></a>\n",
    "# 2. Data Quality & Missing Value Assessment"
   ]
  },
  {
   "cell_type": "code",
   "execution_count": 5,
   "metadata": {},
   "outputs": [
    {
     "data": {
      "text/plain": [
       "id                   0\n",
       "season               0\n",
       "city                 7\n",
       "date                 0\n",
       "team1                0\n",
       "team2                0\n",
       "toss_winner          0\n",
       "toss_decision        0\n",
       "result               0\n",
       "dl_applied           0\n",
       "winner               4\n",
       "win_by_runs          0\n",
       "win_by_wickets       0\n",
       "player_of_match      4\n",
       "venue                0\n",
       "umpire1              2\n",
       "umpire2              2\n",
       "umpire3            637\n",
       "dtype: int64"
      ]
     },
     "execution_count": 5,
     "metadata": {},
     "output_type": "execute_result"
    }
   ],
   "source": [
    "# Checking the missing values in the dataset\n",
    "matches.isnull().sum()"
   ]
  },
  {
   "cell_type": "code",
   "execution_count": 6,
   "metadata": {},
   "outputs": [
    {
     "data": {
      "text/html": [
       "<div>\n",
       "<style scoped>\n",
       "    .dataframe tbody tr th:only-of-type {\n",
       "        vertical-align: middle;\n",
       "    }\n",
       "\n",
       "    .dataframe tbody tr th {\n",
       "        vertical-align: top;\n",
       "    }\n",
       "\n",
       "    .dataframe thead th {\n",
       "        text-align: right;\n",
       "    }\n",
       "</style>\n",
       "<table border=\"1\" class=\"dataframe\">\n",
       "  <thead>\n",
       "    <tr style=\"text-align: right;\">\n",
       "      <th></th>\n",
       "      <th>id</th>\n",
       "      <th>season</th>\n",
       "      <th>city</th>\n",
       "      <th>date</th>\n",
       "      <th>team1</th>\n",
       "      <th>team2</th>\n",
       "      <th>toss_winner</th>\n",
       "      <th>toss_decision</th>\n",
       "      <th>result</th>\n",
       "      <th>dl_applied</th>\n",
       "      <th>winner</th>\n",
       "      <th>win_by_runs</th>\n",
       "      <th>win_by_wickets</th>\n",
       "      <th>player_of_match</th>\n",
       "      <th>venue</th>\n",
       "      <th>umpire1</th>\n",
       "      <th>umpire2</th>\n",
       "      <th>umpire3</th>\n",
       "    </tr>\n",
       "  </thead>\n",
       "  <tbody>\n",
       "    <tr>\n",
       "      <td>300</td>\n",
       "      <td>301</td>\n",
       "      <td>2011</td>\n",
       "      <td>Delhi</td>\n",
       "      <td>2011-05-21</td>\n",
       "      <td>Delhi Daredevils</td>\n",
       "      <td>Pune Warriors</td>\n",
       "      <td>Delhi Daredevils</td>\n",
       "      <td>bat</td>\n",
       "      <td>no result</td>\n",
       "      <td>0</td>\n",
       "      <td>NaN</td>\n",
       "      <td>0</td>\n",
       "      <td>0</td>\n",
       "      <td>NaN</td>\n",
       "      <td>Feroz Shah Kotla</td>\n",
       "      <td>SS Hazare</td>\n",
       "      <td>RJ Tucker</td>\n",
       "      <td>NaN</td>\n",
       "    </tr>\n",
       "    <tr>\n",
       "      <td>545</td>\n",
       "      <td>546</td>\n",
       "      <td>2015</td>\n",
       "      <td>Bangalore</td>\n",
       "      <td>2015-04-29</td>\n",
       "      <td>Royal Challengers Bangalore</td>\n",
       "      <td>Rajasthan Royals</td>\n",
       "      <td>Rajasthan Royals</td>\n",
       "      <td>field</td>\n",
       "      <td>no result</td>\n",
       "      <td>0</td>\n",
       "      <td>NaN</td>\n",
       "      <td>0</td>\n",
       "      <td>0</td>\n",
       "      <td>NaN</td>\n",
       "      <td>M Chinnaswamy Stadium</td>\n",
       "      <td>JD Cloete</td>\n",
       "      <td>PG Pathak</td>\n",
       "      <td>NaN</td>\n",
       "    </tr>\n",
       "    <tr>\n",
       "      <td>570</td>\n",
       "      <td>571</td>\n",
       "      <td>2015</td>\n",
       "      <td>Bangalore</td>\n",
       "      <td>2015-05-17</td>\n",
       "      <td>Delhi Daredevils</td>\n",
       "      <td>Royal Challengers Bangalore</td>\n",
       "      <td>Royal Challengers Bangalore</td>\n",
       "      <td>field</td>\n",
       "      <td>no result</td>\n",
       "      <td>0</td>\n",
       "      <td>NaN</td>\n",
       "      <td>0</td>\n",
       "      <td>0</td>\n",
       "      <td>NaN</td>\n",
       "      <td>M Chinnaswamy Stadium</td>\n",
       "      <td>HDPK Dharmasena</td>\n",
       "      <td>K Srinivasan</td>\n",
       "      <td>NaN</td>\n",
       "    </tr>\n",
       "    <tr>\n",
       "      <td>744</td>\n",
       "      <td>11340</td>\n",
       "      <td>2019</td>\n",
       "      <td>Bengaluru</td>\n",
       "      <td>30/04/19</td>\n",
       "      <td>Royal Challengers Bangalore</td>\n",
       "      <td>Rajasthan Royals</td>\n",
       "      <td>Rajasthan Royals</td>\n",
       "      <td>field</td>\n",
       "      <td>no result</td>\n",
       "      <td>0</td>\n",
       "      <td>NaN</td>\n",
       "      <td>0</td>\n",
       "      <td>0</td>\n",
       "      <td>NaN</td>\n",
       "      <td>M. Chinnaswamy Stadium</td>\n",
       "      <td>Nigel Llong</td>\n",
       "      <td>Ulhas Gandhe</td>\n",
       "      <td>Anil Chaudhary</td>\n",
       "    </tr>\n",
       "  </tbody>\n",
       "</table>\n",
       "</div>"
      ],
      "text/plain": [
       "        id  season       city        date                        team1  \\\n",
       "300    301    2011      Delhi  2011-05-21             Delhi Daredevils   \n",
       "545    546    2015  Bangalore  2015-04-29  Royal Challengers Bangalore   \n",
       "570    571    2015  Bangalore  2015-05-17             Delhi Daredevils   \n",
       "744  11340    2019  Bengaluru    30/04/19  Royal Challengers Bangalore   \n",
       "\n",
       "                           team2                  toss_winner toss_decision  \\\n",
       "300                Pune Warriors             Delhi Daredevils           bat   \n",
       "545             Rajasthan Royals             Rajasthan Royals         field   \n",
       "570  Royal Challengers Bangalore  Royal Challengers Bangalore         field   \n",
       "744             Rajasthan Royals             Rajasthan Royals         field   \n",
       "\n",
       "        result  dl_applied winner  win_by_runs  win_by_wickets  \\\n",
       "300  no result           0    NaN            0               0   \n",
       "545  no result           0    NaN            0               0   \n",
       "570  no result           0    NaN            0               0   \n",
       "744  no result           0    NaN            0               0   \n",
       "\n",
       "    player_of_match                   venue          umpire1       umpire2  \\\n",
       "300             NaN        Feroz Shah Kotla        SS Hazare     RJ Tucker   \n",
       "545             NaN   M Chinnaswamy Stadium        JD Cloete     PG Pathak   \n",
       "570             NaN   M Chinnaswamy Stadium  HDPK Dharmasena  K Srinivasan   \n",
       "744             NaN  M. Chinnaswamy Stadium      Nigel Llong  Ulhas Gandhe   \n",
       "\n",
       "            umpire3  \n",
       "300             NaN  \n",
       "545             NaN  \n",
       "570             NaN  \n",
       "744  Anil Chaudhary  "
      ]
     },
     "execution_count": 6,
     "metadata": {},
     "output_type": "execute_result"
    }
   ],
   "source": [
    "matches[pd.isnull(matches['winner'])]"
   ]
  },
  {
   "cell_type": "markdown",
   "metadata": {},
   "source": [
    "#### We update this as No result "
   ]
  },
  {
   "cell_type": "code",
   "execution_count": 7,
   "metadata": {},
   "outputs": [],
   "source": [
    "matches['winner'].fillna('Draw', inplace=True)"
   ]
  },
  {
   "cell_type": "code",
   "execution_count": 8,
   "metadata": {},
   "outputs": [
    {
     "data": {
      "text/html": [
       "<div>\n",
       "<style scoped>\n",
       "    .dataframe tbody tr th:only-of-type {\n",
       "        vertical-align: middle;\n",
       "    }\n",
       "\n",
       "    .dataframe tbody tr th {\n",
       "        vertical-align: top;\n",
       "    }\n",
       "\n",
       "    .dataframe thead th {\n",
       "        text-align: right;\n",
       "    }\n",
       "</style>\n",
       "<table border=\"1\" class=\"dataframe\">\n",
       "  <thead>\n",
       "    <tr style=\"text-align: right;\">\n",
       "      <th></th>\n",
       "      <th>id</th>\n",
       "      <th>season</th>\n",
       "      <th>city</th>\n",
       "      <th>date</th>\n",
       "      <th>team1</th>\n",
       "      <th>team2</th>\n",
       "      <th>toss_winner</th>\n",
       "      <th>toss_decision</th>\n",
       "      <th>result</th>\n",
       "      <th>dl_applied</th>\n",
       "      <th>winner</th>\n",
       "      <th>win_by_runs</th>\n",
       "      <th>win_by_wickets</th>\n",
       "      <th>player_of_match</th>\n",
       "      <th>venue</th>\n",
       "      <th>umpire1</th>\n",
       "      <th>umpire2</th>\n",
       "      <th>umpire3</th>\n",
       "    </tr>\n",
       "  </thead>\n",
       "  <tbody>\n",
       "    <tr>\n",
       "      <td>461</td>\n",
       "      <td>462</td>\n",
       "      <td>2014</td>\n",
       "      <td>NaN</td>\n",
       "      <td>2014-04-19</td>\n",
       "      <td>Mumbai Indians</td>\n",
       "      <td>Royal Challengers Bangalore</td>\n",
       "      <td>Royal Challengers Bangalore</td>\n",
       "      <td>field</td>\n",
       "      <td>normal</td>\n",
       "      <td>0</td>\n",
       "      <td>Royal Challengers Bangalore</td>\n",
       "      <td>0</td>\n",
       "      <td>7</td>\n",
       "      <td>PA Patel</td>\n",
       "      <td>Dubai International Cricket Stadium</td>\n",
       "      <td>Aleem Dar</td>\n",
       "      <td>AK Chaudhary</td>\n",
       "      <td>NaN</td>\n",
       "    </tr>\n",
       "    <tr>\n",
       "      <td>462</td>\n",
       "      <td>463</td>\n",
       "      <td>2014</td>\n",
       "      <td>NaN</td>\n",
       "      <td>2014-04-19</td>\n",
       "      <td>Kolkata Knight Riders</td>\n",
       "      <td>Delhi Daredevils</td>\n",
       "      <td>Kolkata Knight Riders</td>\n",
       "      <td>bat</td>\n",
       "      <td>normal</td>\n",
       "      <td>0</td>\n",
       "      <td>Delhi Daredevils</td>\n",
       "      <td>0</td>\n",
       "      <td>4</td>\n",
       "      <td>JP Duminy</td>\n",
       "      <td>Dubai International Cricket Stadium</td>\n",
       "      <td>Aleem Dar</td>\n",
       "      <td>VA Kulkarni</td>\n",
       "      <td>NaN</td>\n",
       "    </tr>\n",
       "    <tr>\n",
       "      <td>466</td>\n",
       "      <td>467</td>\n",
       "      <td>2014</td>\n",
       "      <td>NaN</td>\n",
       "      <td>2014-04-23</td>\n",
       "      <td>Chennai Super Kings</td>\n",
       "      <td>Rajasthan Royals</td>\n",
       "      <td>Rajasthan Royals</td>\n",
       "      <td>field</td>\n",
       "      <td>normal</td>\n",
       "      <td>0</td>\n",
       "      <td>Chennai Super Kings</td>\n",
       "      <td>7</td>\n",
       "      <td>0</td>\n",
       "      <td>RA Jadeja</td>\n",
       "      <td>Dubai International Cricket Stadium</td>\n",
       "      <td>HDPK Dharmasena</td>\n",
       "      <td>RK Illingworth</td>\n",
       "      <td>NaN</td>\n",
       "    </tr>\n",
       "    <tr>\n",
       "      <td>468</td>\n",
       "      <td>469</td>\n",
       "      <td>2014</td>\n",
       "      <td>NaN</td>\n",
       "      <td>2014-04-25</td>\n",
       "      <td>Sunrisers Hyderabad</td>\n",
       "      <td>Delhi Daredevils</td>\n",
       "      <td>Sunrisers Hyderabad</td>\n",
       "      <td>bat</td>\n",
       "      <td>normal</td>\n",
       "      <td>0</td>\n",
       "      <td>Sunrisers Hyderabad</td>\n",
       "      <td>4</td>\n",
       "      <td>0</td>\n",
       "      <td>AJ Finch</td>\n",
       "      <td>Dubai International Cricket Stadium</td>\n",
       "      <td>M Erasmus</td>\n",
       "      <td>S Ravi</td>\n",
       "      <td>NaN</td>\n",
       "    </tr>\n",
       "    <tr>\n",
       "      <td>469</td>\n",
       "      <td>470</td>\n",
       "      <td>2014</td>\n",
       "      <td>NaN</td>\n",
       "      <td>2014-04-25</td>\n",
       "      <td>Mumbai Indians</td>\n",
       "      <td>Chennai Super Kings</td>\n",
       "      <td>Mumbai Indians</td>\n",
       "      <td>bat</td>\n",
       "      <td>normal</td>\n",
       "      <td>0</td>\n",
       "      <td>Chennai Super Kings</td>\n",
       "      <td>0</td>\n",
       "      <td>7</td>\n",
       "      <td>MM Sharma</td>\n",
       "      <td>Dubai International Cricket Stadium</td>\n",
       "      <td>BF Bowden</td>\n",
       "      <td>M Erasmus</td>\n",
       "      <td>NaN</td>\n",
       "    </tr>\n",
       "    <tr>\n",
       "      <td>474</td>\n",
       "      <td>475</td>\n",
       "      <td>2014</td>\n",
       "      <td>NaN</td>\n",
       "      <td>2014-04-28</td>\n",
       "      <td>Royal Challengers Bangalore</td>\n",
       "      <td>Kings XI Punjab</td>\n",
       "      <td>Kings XI Punjab</td>\n",
       "      <td>field</td>\n",
       "      <td>normal</td>\n",
       "      <td>0</td>\n",
       "      <td>Kings XI Punjab</td>\n",
       "      <td>0</td>\n",
       "      <td>5</td>\n",
       "      <td>Sandeep Sharma</td>\n",
       "      <td>Dubai International Cricket Stadium</td>\n",
       "      <td>BF Bowden</td>\n",
       "      <td>S Ravi</td>\n",
       "      <td>NaN</td>\n",
       "    </tr>\n",
       "    <tr>\n",
       "      <td>476</td>\n",
       "      <td>477</td>\n",
       "      <td>2014</td>\n",
       "      <td>NaN</td>\n",
       "      <td>2014-04-30</td>\n",
       "      <td>Sunrisers Hyderabad</td>\n",
       "      <td>Mumbai Indians</td>\n",
       "      <td>Mumbai Indians</td>\n",
       "      <td>field</td>\n",
       "      <td>normal</td>\n",
       "      <td>0</td>\n",
       "      <td>Sunrisers Hyderabad</td>\n",
       "      <td>15</td>\n",
       "      <td>0</td>\n",
       "      <td>B Kumar</td>\n",
       "      <td>Dubai International Cricket Stadium</td>\n",
       "      <td>HDPK Dharmasena</td>\n",
       "      <td>M Erasmus</td>\n",
       "      <td>NaN</td>\n",
       "    </tr>\n",
       "  </tbody>\n",
       "</table>\n",
       "</div>"
      ],
      "text/plain": [
       "      id  season city        date                        team1  \\\n",
       "461  462    2014  NaN  2014-04-19               Mumbai Indians   \n",
       "462  463    2014  NaN  2014-04-19        Kolkata Knight Riders   \n",
       "466  467    2014  NaN  2014-04-23          Chennai Super Kings   \n",
       "468  469    2014  NaN  2014-04-25          Sunrisers Hyderabad   \n",
       "469  470    2014  NaN  2014-04-25               Mumbai Indians   \n",
       "474  475    2014  NaN  2014-04-28  Royal Challengers Bangalore   \n",
       "476  477    2014  NaN  2014-04-30          Sunrisers Hyderabad   \n",
       "\n",
       "                           team2                  toss_winner toss_decision  \\\n",
       "461  Royal Challengers Bangalore  Royal Challengers Bangalore         field   \n",
       "462             Delhi Daredevils        Kolkata Knight Riders           bat   \n",
       "466             Rajasthan Royals             Rajasthan Royals         field   \n",
       "468             Delhi Daredevils          Sunrisers Hyderabad           bat   \n",
       "469          Chennai Super Kings               Mumbai Indians           bat   \n",
       "474              Kings XI Punjab              Kings XI Punjab         field   \n",
       "476               Mumbai Indians               Mumbai Indians         field   \n",
       "\n",
       "     result  dl_applied                       winner  win_by_runs  \\\n",
       "461  normal           0  Royal Challengers Bangalore            0   \n",
       "462  normal           0             Delhi Daredevils            0   \n",
       "466  normal           0          Chennai Super Kings            7   \n",
       "468  normal           0          Sunrisers Hyderabad            4   \n",
       "469  normal           0          Chennai Super Kings            0   \n",
       "474  normal           0              Kings XI Punjab            0   \n",
       "476  normal           0          Sunrisers Hyderabad           15   \n",
       "\n",
       "     win_by_wickets player_of_match                                venue  \\\n",
       "461               7        PA Patel  Dubai International Cricket Stadium   \n",
       "462               4       JP Duminy  Dubai International Cricket Stadium   \n",
       "466               0       RA Jadeja  Dubai International Cricket Stadium   \n",
       "468               0        AJ Finch  Dubai International Cricket Stadium   \n",
       "469               7       MM Sharma  Dubai International Cricket Stadium   \n",
       "474               5  Sandeep Sharma  Dubai International Cricket Stadium   \n",
       "476               0         B Kumar  Dubai International Cricket Stadium   \n",
       "\n",
       "             umpire1         umpire2 umpire3  \n",
       "461        Aleem Dar    AK Chaudhary     NaN  \n",
       "462        Aleem Dar     VA Kulkarni     NaN  \n",
       "466  HDPK Dharmasena  RK Illingworth     NaN  \n",
       "468        M Erasmus          S Ravi     NaN  \n",
       "469        BF Bowden       M Erasmus     NaN  \n",
       "474        BF Bowden          S Ravi     NaN  \n",
       "476  HDPK Dharmasena       M Erasmus     NaN  "
      ]
     },
     "execution_count": 8,
     "metadata": {},
     "output_type": "execute_result"
    }
   ],
   "source": [
    "#Find cities which are null\n",
    "matches[pd.isnull(matches['city'])]"
   ]
  },
  {
   "cell_type": "markdown",
   "metadata": {},
   "source": [
    "#### From the venue we can conclude the city is Dubai"
   ]
  },
  {
   "cell_type": "code",
   "execution_count": 9,
   "metadata": {},
   "outputs": [],
   "source": [
    "matches['city'].fillna('Dubai',inplace=True)"
   ]
  },
  {
   "cell_type": "code",
   "execution_count": 10,
   "metadata": {},
   "outputs": [
    {
     "data": {
      "text/plain": [
       "id                   0\n",
       "season               0\n",
       "city                 0\n",
       "date                 0\n",
       "team1                0\n",
       "team2                0\n",
       "toss_winner          0\n",
       "toss_decision        0\n",
       "result               0\n",
       "dl_applied           0\n",
       "winner               0\n",
       "win_by_runs          0\n",
       "win_by_wickets       0\n",
       "player_of_match      4\n",
       "venue                0\n",
       "umpire1              2\n",
       "umpire2              2\n",
       "umpire3            637\n",
       "dtype: int64"
      ]
     },
     "execution_count": 10,
     "metadata": {},
     "output_type": "execute_result"
    }
   ],
   "source": [
    "matches.isnull().sum()"
   ]
  },
  {
   "cell_type": "markdown",
   "metadata": {},
   "source": [
    "#### Converting the team names into their initials"
   ]
  },
  {
   "cell_type": "code",
   "execution_count": 11,
   "metadata": {},
   "outputs": [
    {
     "data": {
      "text/html": [
       "<div>\n",
       "<style scoped>\n",
       "    .dataframe tbody tr th:only-of-type {\n",
       "        vertical-align: middle;\n",
       "    }\n",
       "\n",
       "    .dataframe tbody tr th {\n",
       "        vertical-align: top;\n",
       "    }\n",
       "\n",
       "    .dataframe thead th {\n",
       "        text-align: right;\n",
       "    }\n",
       "</style>\n",
       "<table border=\"1\" class=\"dataframe\">\n",
       "  <thead>\n",
       "    <tr style=\"text-align: right;\">\n",
       "      <th></th>\n",
       "      <th>id</th>\n",
       "      <th>season</th>\n",
       "      <th>city</th>\n",
       "      <th>date</th>\n",
       "      <th>team1</th>\n",
       "      <th>team2</th>\n",
       "      <th>toss_winner</th>\n",
       "      <th>toss_decision</th>\n",
       "      <th>result</th>\n",
       "      <th>dl_applied</th>\n",
       "      <th>winner</th>\n",
       "      <th>win_by_runs</th>\n",
       "      <th>win_by_wickets</th>\n",
       "      <th>player_of_match</th>\n",
       "      <th>venue</th>\n",
       "      <th>umpire1</th>\n",
       "      <th>umpire2</th>\n",
       "      <th>umpire3</th>\n",
       "    </tr>\n",
       "  </thead>\n",
       "  <tbody>\n",
       "    <tr>\n",
       "      <td>0</td>\n",
       "      <td>1</td>\n",
       "      <td>2017</td>\n",
       "      <td>Hyderabad</td>\n",
       "      <td>2017-04-05</td>\n",
       "      <td>SRH</td>\n",
       "      <td>RCB</td>\n",
       "      <td>RCB</td>\n",
       "      <td>field</td>\n",
       "      <td>normal</td>\n",
       "      <td>0</td>\n",
       "      <td>SRH</td>\n",
       "      <td>35</td>\n",
       "      <td>0</td>\n",
       "      <td>Yuvraj Singh</td>\n",
       "      <td>Rajiv Gandhi International Stadium, Uppal</td>\n",
       "      <td>AY Dandekar</td>\n",
       "      <td>NJ Llong</td>\n",
       "      <td>NaN</td>\n",
       "    </tr>\n",
       "    <tr>\n",
       "      <td>1</td>\n",
       "      <td>2</td>\n",
       "      <td>2017</td>\n",
       "      <td>Pune</td>\n",
       "      <td>2017-04-06</td>\n",
       "      <td>MI</td>\n",
       "      <td>RPS</td>\n",
       "      <td>RPS</td>\n",
       "      <td>field</td>\n",
       "      <td>normal</td>\n",
       "      <td>0</td>\n",
       "      <td>RPS</td>\n",
       "      <td>0</td>\n",
       "      <td>7</td>\n",
       "      <td>SPD Smith</td>\n",
       "      <td>Maharashtra Cricket Association Stadium</td>\n",
       "      <td>A Nand Kishore</td>\n",
       "      <td>S Ravi</td>\n",
       "      <td>NaN</td>\n",
       "    </tr>\n",
       "  </tbody>\n",
       "</table>\n",
       "</div>"
      ],
      "text/plain": [
       "   id  season       city        date team1 team2 toss_winner toss_decision  \\\n",
       "0   1    2017  Hyderabad  2017-04-05   SRH   RCB         RCB         field   \n",
       "1   2    2017       Pune  2017-04-06    MI   RPS         RPS         field   \n",
       "\n",
       "   result  dl_applied winner  win_by_runs  win_by_wickets player_of_match  \\\n",
       "0  normal           0    SRH           35               0    Yuvraj Singh   \n",
       "1  normal           0    RPS            0               7       SPD Smith   \n",
       "\n",
       "                                       venue         umpire1   umpire2 umpire3  \n",
       "0  Rajiv Gandhi International Stadium, Uppal     AY Dandekar  NJ Llong     NaN  \n",
       "1    Maharashtra Cricket Association Stadium  A Nand Kishore    S Ravi     NaN  "
      ]
     },
     "execution_count": 11,
     "metadata": {},
     "output_type": "execute_result"
    }
   ],
   "source": [
    "matches.replace(['Mumbai Indians','Kolkata Knight Riders','Royal Challengers Bangalore','Deccan Chargers','Chennai Super Kings',\n",
    "                 'Rajasthan Royals','Delhi Daredevils',\"Delhi Capitals\",'Gujarat Lions','Kings XI Punjab',\n",
    "                 'Sunrisers Hyderabad','Rising Pune Supergiants',\"Rising Pune Supergiant\",'Kochi Tuskers Kerala','Pune Warriors']\n",
    "                ,['MI','KKR','RCB','DC','CSK','RR','DD','DD','GL','KXIP','SRH','RPS','RPS','KTK','PW'],inplace=True)\n",
    "\n",
    "\n",
    "matches.head(2)"
   ]
  },
  {
   "cell_type": "markdown",
   "metadata": {},
   "source": [
    "<a id=\"t3.\"></a>\n",
    "# 3. Exploratory Data Analysis\n"
   ]
  },
  {
   "cell_type": "markdown",
   "metadata": {},
   "source": [
    "#### Genral Analysis"
   ]
  },
  {
   "cell_type": "code",
   "execution_count": 12,
   "metadata": {},
   "outputs": [
    {
     "name": "stdout",
     "output_type": "stream",
     "text": [
      "Total Matches Played: 756\n",
      " \n",
      " Venues Played At: ['Hyderabad' 'Pune' 'Rajkot' 'Indore' 'Bangalore' 'Mumbai' 'Kolkata'\n",
      " 'Delhi' 'Chandigarh' 'Kanpur' 'Jaipur' 'Chennai' 'Cape Town'\n",
      " 'Port Elizabeth' 'Durban' 'Centurion' 'East London' 'Johannesburg'\n",
      " 'Kimberley' 'Bloemfontein' 'Ahmedabad' 'Cuttack' 'Nagpur' 'Dharamsala'\n",
      " 'Kochi' 'Visakhapatnam' 'Raipur' 'Ranchi' 'Abu Dhabi' 'Sharjah' 'Dubai'\n",
      " 'Mohali' 'Bengaluru']\n",
      " \n",
      " Teams : ['SRH' 'MI' 'GL' 'RPS' 'RCB' 'KKR' 'DD' 'KXIP' 'CSK' 'RR' 'DC' 'KTK' 'PW']\n"
     ]
    }
   ],
   "source": [
    "print('Total Matches Played:',matches.shape[0])\n",
    "print(' \\n Venues Played At:',matches['city'].unique())     \n",
    "print(' \\n Teams :',matches['team1'].unique())"
   ]
  },
  {
   "cell_type": "markdown",
   "metadata": {},
   "source": [
    "#### Most Player of the match"
   ]
  },
  {
   "cell_type": "code",
   "execution_count": 13,
   "metadata": {},
   "outputs": [
    {
     "name": "stdout",
     "output_type": "stream",
     "text": [
      "CH Gayle           21\n",
      "AB de Villiers     20\n",
      "MS Dhoni           17\n",
      "RG Sharma          17\n",
      "DA Warner          17\n",
      "                   ..\n",
      "MA Starc            1\n",
      "SA Yadav            1\n",
      "SB Jakati           1\n",
      "AA Jhunjhunwala     1\n",
      "RA Tripathi         1\n",
      "Name: player_of_match, Length: 226, dtype: int64\n"
     ]
    }
   ],
   "source": [
    "print(matches['player_of_match'].value_counts())"
   ]
  },
  {
   "cell_type": "markdown",
   "metadata": {},
   "source": [
    "#### Toss Decision in every season"
   ]
  },
  {
   "cell_type": "code",
   "execution_count": 14,
   "metadata": {},
   "outputs": [
    {
     "data": {
      "text/plain": [
       "<matplotlib.axes._subplots.AxesSubplot at 0x291642a6108>"
      ]
     },
     "execution_count": 14,
     "metadata": {},
     "output_type": "execute_result"
    },
    {
     "data": {
      "image/png": "[encoded data removed]",
      "text/plain": [
       "<Figure size 432x288 with 1 Axes>"
      ]
     },
     "metadata": {
      "needs_background": "light"
     },
     "output_type": "display_data"
    }
   ],
   "source": [
    "sns.countplot(x='season',hue='toss_decision',data=matches)"
   ]
  },
  {
   "cell_type": "markdown",
   "metadata": {},
   "source": [
    "#### Most Toss winner"
   ]
  },
  {
   "cell_type": "code",
   "execution_count": 15,
   "metadata": {},
   "outputs": [
    {
     "data": {
      "text/plain": [
       "<matplotlib.axes._subplots.AxesSubplot at 0x291663fad88>"
      ]
     },
     "execution_count": 15,
     "metadata": {},
     "output_type": "execute_result"
    },
    {
     "data": {
      "image/png": "[encoded data removed]",
      "text/plain": [
       "<Figure size 432x288 with 1 Axes>"
      ]
     },
     "metadata": {
      "needs_background": "light"
     },
     "output_type": "display_data"
    }
   ],
   "source": [
    "matches['toss_winner'].value_counts().plot(kind='bar')"
   ]
  },
  {
   "cell_type": "markdown",
   "metadata": {},
   "source": [
    "#### Matches each season"
   ]
  },
  {
   "cell_type": "code",
   "execution_count": 16,
   "metadata": {},
   "outputs": [
    {
     "data": {
      "text/plain": [
       "<matplotlib.axes._subplots.AxesSubplot at 0x291664b3648>"
      ]
     },
     "execution_count": 16,
     "metadata": {},
     "output_type": "execute_result"
    },
    {
     "data": {
      "image/png": "[encoded data removed]",
      "text/plain": [
       "<Figure size 432x288 with 1 Axes>"
      ]
     },
     "metadata": {
      "needs_background": "light"
     },
     "output_type": "display_data"
    }
   ],
   "source": [
    "sns.countplot(matches['season'])"
   ]
  },
  {
   "cell_type": "markdown",
   "metadata": {},
   "source": [
    "#### Most Wins"
   ]
  },
  {
   "cell_type": "code",
   "execution_count": 17,
   "metadata": {},
   "outputs": [
    {
     "data": {
      "text/html": [
       "<div>\n",
       "<style scoped>\n",
       "    .dataframe tbody tr th:only-of-type {\n",
       "        vertical-align: middle;\n",
       "    }\n",
       "\n",
       "    .dataframe tbody tr th {\n",
       "        vertical-align: top;\n",
       "    }\n",
       "\n",
       "    .dataframe thead th {\n",
       "        text-align: right;\n",
       "    }\n",
       "</style>\n",
       "<table border=\"1\" class=\"dataframe\">\n",
       "  <thead>\n",
       "    <tr style=\"text-align: right;\">\n",
       "      <th></th>\n",
       "      <th>team_name</th>\n",
       "      <th>wins</th>\n",
       "    </tr>\n",
       "  </thead>\n",
       "  <tbody>\n",
       "    <tr>\n",
       "      <td>0</td>\n",
       "      <td>MI</td>\n",
       "      <td>109</td>\n",
       "    </tr>\n",
       "    <tr>\n",
       "      <td>1</td>\n",
       "      <td>CSK</td>\n",
       "      <td>100</td>\n",
       "    </tr>\n",
       "    <tr>\n",
       "      <td>2</td>\n",
       "      <td>KKR</td>\n",
       "      <td>92</td>\n",
       "    </tr>\n",
       "    <tr>\n",
       "      <td>3</td>\n",
       "      <td>RCB</td>\n",
       "      <td>84</td>\n",
       "    </tr>\n",
       "    <tr>\n",
       "      <td>4</td>\n",
       "      <td>KXIP</td>\n",
       "      <td>82</td>\n",
       "    </tr>\n",
       "    <tr>\n",
       "      <td>5</td>\n",
       "      <td>DD</td>\n",
       "      <td>77</td>\n",
       "    </tr>\n",
       "    <tr>\n",
       "      <td>6</td>\n",
       "      <td>RR</td>\n",
       "      <td>75</td>\n",
       "    </tr>\n",
       "    <tr>\n",
       "      <td>7</td>\n",
       "      <td>SRH</td>\n",
       "      <td>58</td>\n",
       "    </tr>\n",
       "    <tr>\n",
       "      <td>8</td>\n",
       "      <td>DC</td>\n",
       "      <td>29</td>\n",
       "    </tr>\n",
       "    <tr>\n",
       "      <td>9</td>\n",
       "      <td>RPS</td>\n",
       "      <td>15</td>\n",
       "    </tr>\n",
       "    <tr>\n",
       "      <td>10</td>\n",
       "      <td>GL</td>\n",
       "      <td>13</td>\n",
       "    </tr>\n",
       "    <tr>\n",
       "      <td>11</td>\n",
       "      <td>PW</td>\n",
       "      <td>12</td>\n",
       "    </tr>\n",
       "    <tr>\n",
       "      <td>12</td>\n",
       "      <td>KTK</td>\n",
       "      <td>6</td>\n",
       "    </tr>\n",
       "    <tr>\n",
       "      <td>13</td>\n",
       "      <td>Draw</td>\n",
       "      <td>4</td>\n",
       "    </tr>\n",
       "  </tbody>\n",
       "</table>\n",
       "</div>"
      ],
      "text/plain": [
       "   team_name  wins\n",
       "0         MI   109\n",
       "1        CSK   100\n",
       "2        KKR    92\n",
       "3        RCB    84\n",
       "4       KXIP    82\n",
       "5         DD    77\n",
       "6         RR    75\n",
       "7        SRH    58\n",
       "8         DC    29\n",
       "9        RPS    15\n",
       "10        GL    13\n",
       "11        PW    12\n",
       "12       KTK     6\n",
       "13      Draw     4"
      ]
     },
     "execution_count": 17,
     "metadata": {},
     "output_type": "execute_result"
    }
   ],
   "source": [
    "wins=pd.DataFrame(matches['winner'].value_counts()).reset_index()\n",
    "wins.columns=['team_name','wins']\n",
    "wins"
   ]
  },
  {
   "cell_type": "markdown",
   "metadata": {},
   "source": [
    "#### Total Matches Played by each Team"
   ]
  },
  {
   "cell_type": "code",
   "execution_count": 18,
   "metadata": {},
   "outputs": [
    {
     "data": {
      "text/html": [
       "<div>\n",
       "<style scoped>\n",
       "    .dataframe tbody tr th:only-of-type {\n",
       "        vertical-align: middle;\n",
       "    }\n",
       "\n",
       "    .dataframe tbody tr th {\n",
       "        vertical-align: top;\n",
       "    }\n",
       "\n",
       "    .dataframe thead th {\n",
       "        text-align: right;\n",
       "    }\n",
       "</style>\n",
       "<table border=\"1\" class=\"dataframe\">\n",
       "  <thead>\n",
       "    <tr style=\"text-align: right;\">\n",
       "      <th></th>\n",
       "      <th>team_name</th>\n",
       "      <th>Matches_played</th>\n",
       "    </tr>\n",
       "  </thead>\n",
       "  <tbody>\n",
       "    <tr>\n",
       "      <td>0</td>\n",
       "      <td>CSK</td>\n",
       "      <td>164</td>\n",
       "    </tr>\n",
       "    <tr>\n",
       "      <td>1</td>\n",
       "      <td>DC</td>\n",
       "      <td>75</td>\n",
       "    </tr>\n",
       "    <tr>\n",
       "      <td>2</td>\n",
       "      <td>DD</td>\n",
       "      <td>177</td>\n",
       "    </tr>\n",
       "    <tr>\n",
       "      <td>3</td>\n",
       "      <td>GL</td>\n",
       "      <td>30</td>\n",
       "    </tr>\n",
       "    <tr>\n",
       "      <td>4</td>\n",
       "      <td>KKR</td>\n",
       "      <td>178</td>\n",
       "    </tr>\n",
       "    <tr>\n",
       "      <td>5</td>\n",
       "      <td>KTK</td>\n",
       "      <td>14</td>\n",
       "    </tr>\n",
       "    <tr>\n",
       "      <td>6</td>\n",
       "      <td>KXIP</td>\n",
       "      <td>176</td>\n",
       "    </tr>\n",
       "    <tr>\n",
       "      <td>7</td>\n",
       "      <td>MI</td>\n",
       "      <td>187</td>\n",
       "    </tr>\n",
       "    <tr>\n",
       "      <td>8</td>\n",
       "      <td>PW</td>\n",
       "      <td>46</td>\n",
       "    </tr>\n",
       "    <tr>\n",
       "      <td>9</td>\n",
       "      <td>RCB</td>\n",
       "      <td>180</td>\n",
       "    </tr>\n",
       "    <tr>\n",
       "      <td>10</td>\n",
       "      <td>RPS</td>\n",
       "      <td>30</td>\n",
       "    </tr>\n",
       "    <tr>\n",
       "      <td>11</td>\n",
       "      <td>RR</td>\n",
       "      <td>147</td>\n",
       "    </tr>\n",
       "    <tr>\n",
       "      <td>12</td>\n",
       "      <td>SRH</td>\n",
       "      <td>108</td>\n",
       "    </tr>\n",
       "  </tbody>\n",
       "</table>\n",
       "</div>"
      ],
      "text/plain": [
       "   team_name  Matches_played\n",
       "0        CSK             164\n",
       "1         DC              75\n",
       "2         DD             177\n",
       "3         GL              30\n",
       "4        KKR             178\n",
       "5        KTK              14\n",
       "6       KXIP             176\n",
       "7         MI             187\n",
       "8         PW              46\n",
       "9        RCB             180\n",
       "10       RPS              30\n",
       "11        RR             147\n",
       "12       SRH             108"
      ]
     },
     "execution_count": 18,
     "metadata": {},
     "output_type": "execute_result"
    }
   ],
   "source": [
    "matches_played_byteams=pd.concat([matches['team1'],matches['team2']],axis=1)\n",
    "teams=(matches_played_byteams['team1'].value_counts()+matches_played_byteams['team2'].value_counts()).reset_index()\n",
    "teams.columns=['team_name','Matches_played']\n",
    "teams"
   ]
  },
  {
   "cell_type": "markdown",
   "metadata": {},
   "source": [
    "#### Matches played vs the win "
   ]
  },
  {
   "cell_type": "code",
   "execution_count": 19,
   "metadata": {},
   "outputs": [
    {
     "data": {
      "text/html": [
       "<div>\n",
       "<style scoped>\n",
       "    .dataframe tbody tr th:only-of-type {\n",
       "        vertical-align: middle;\n",
       "    }\n",
       "\n",
       "    .dataframe tbody tr th {\n",
       "        vertical-align: top;\n",
       "    }\n",
       "\n",
       "    .dataframe thead th {\n",
       "        text-align: right;\n",
       "    }\n",
       "</style>\n",
       "<table border=\"1\" class=\"dataframe\">\n",
       "  <thead>\n",
       "    <tr style=\"text-align: right;\">\n",
       "      <th></th>\n",
       "      <th>team</th>\n",
       "      <th>matches_played</th>\n",
       "      <th>wins</th>\n",
       "    </tr>\n",
       "  </thead>\n",
       "  <tbody>\n",
       "    <tr>\n",
       "      <td>0</td>\n",
       "      <td>CSK</td>\n",
       "      <td>164</td>\n",
       "      <td>100</td>\n",
       "    </tr>\n",
       "    <tr>\n",
       "      <td>1</td>\n",
       "      <td>DC</td>\n",
       "      <td>75</td>\n",
       "      <td>29</td>\n",
       "    </tr>\n",
       "    <tr>\n",
       "      <td>2</td>\n",
       "      <td>DD</td>\n",
       "      <td>177</td>\n",
       "      <td>77</td>\n",
       "    </tr>\n",
       "    <tr>\n",
       "      <td>3</td>\n",
       "      <td>GL</td>\n",
       "      <td>30</td>\n",
       "      <td>13</td>\n",
       "    </tr>\n",
       "    <tr>\n",
       "      <td>4</td>\n",
       "      <td>KKR</td>\n",
       "      <td>178</td>\n",
       "      <td>92</td>\n",
       "    </tr>\n",
       "    <tr>\n",
       "      <td>5</td>\n",
       "      <td>KTK</td>\n",
       "      <td>14</td>\n",
       "      <td>6</td>\n",
       "    </tr>\n",
       "    <tr>\n",
       "      <td>6</td>\n",
       "      <td>KXIP</td>\n",
       "      <td>176</td>\n",
       "      <td>82</td>\n",
       "    </tr>\n",
       "    <tr>\n",
       "      <td>7</td>\n",
       "      <td>MI</td>\n",
       "      <td>187</td>\n",
       "      <td>109</td>\n",
       "    </tr>\n",
       "    <tr>\n",
       "      <td>8</td>\n",
       "      <td>PW</td>\n",
       "      <td>46</td>\n",
       "      <td>12</td>\n",
       "    </tr>\n",
       "    <tr>\n",
       "      <td>9</td>\n",
       "      <td>RCB</td>\n",
       "      <td>180</td>\n",
       "      <td>84</td>\n",
       "    </tr>\n",
       "    <tr>\n",
       "      <td>10</td>\n",
       "      <td>RPS</td>\n",
       "      <td>30</td>\n",
       "      <td>15</td>\n",
       "    </tr>\n",
       "    <tr>\n",
       "      <td>11</td>\n",
       "      <td>RR</td>\n",
       "      <td>147</td>\n",
       "      <td>75</td>\n",
       "    </tr>\n",
       "    <tr>\n",
       "      <td>12</td>\n",
       "      <td>SRH</td>\n",
       "      <td>108</td>\n",
       "      <td>58</td>\n",
       "    </tr>\n",
       "  </tbody>\n",
       "</table>\n",
       "</div>"
      ],
      "text/plain": [
       "    team  matches_played  wins\n",
       "0    CSK             164   100\n",
       "1     DC              75    29\n",
       "2     DD             177    77\n",
       "3     GL              30    13\n",
       "4    KKR             178    92\n",
       "5    KTK              14     6\n",
       "6   KXIP             176    82\n",
       "7     MI             187   109\n",
       "8     PW              46    12\n",
       "9    RCB             180    84\n",
       "10   RPS              30    15\n",
       "11    RR             147    75\n",
       "12   SRH             108    58"
      ]
     },
     "execution_count": 19,
     "metadata": {},
     "output_type": "execute_result"
    }
   ],
   "source": [
    "player=teams.merge(wins,left_on='team_name',right_on='team_name',how='inner')\n",
    "\n",
    "player.columns=['team','matches_played','wins']\n",
    "player"
   ]
  },
  {
   "cell_type": "markdown",
   "metadata": {},
   "source": [
    "#### Percentage Win"
   ]
  },
  {
   "cell_type": "code",
   "execution_count": 20,
   "metadata": {},
   "outputs": [
    {
     "data": {
      "text/html": [
       "<div>\n",
       "<style scoped>\n",
       "    .dataframe tbody tr th:only-of-type {\n",
       "        vertical-align: middle;\n",
       "    }\n",
       "\n",
       "    .dataframe tbody tr th {\n",
       "        vertical-align: top;\n",
       "    }\n",
       "\n",
       "    .dataframe thead th {\n",
       "        text-align: right;\n",
       "    }\n",
       "</style>\n",
       "<table border=\"1\" class=\"dataframe\">\n",
       "  <thead>\n",
       "    <tr style=\"text-align: right;\">\n",
       "      <th></th>\n",
       "      <th>team</th>\n",
       "      <th>matches_played</th>\n",
       "      <th>wins</th>\n",
       "      <th>%win</th>\n",
       "    </tr>\n",
       "  </thead>\n",
       "  <tbody>\n",
       "    <tr>\n",
       "      <td>0</td>\n",
       "      <td>CSK</td>\n",
       "      <td>164</td>\n",
       "      <td>100</td>\n",
       "      <td>60.975610</td>\n",
       "    </tr>\n",
       "    <tr>\n",
       "      <td>1</td>\n",
       "      <td>DC</td>\n",
       "      <td>75</td>\n",
       "      <td>29</td>\n",
       "      <td>38.666667</td>\n",
       "    </tr>\n",
       "    <tr>\n",
       "      <td>2</td>\n",
       "      <td>DD</td>\n",
       "      <td>177</td>\n",
       "      <td>77</td>\n",
       "      <td>43.502825</td>\n",
       "    </tr>\n",
       "    <tr>\n",
       "      <td>3</td>\n",
       "      <td>GL</td>\n",
       "      <td>30</td>\n",
       "      <td>13</td>\n",
       "      <td>43.333333</td>\n",
       "    </tr>\n",
       "    <tr>\n",
       "      <td>4</td>\n",
       "      <td>KKR</td>\n",
       "      <td>178</td>\n",
       "      <td>92</td>\n",
       "      <td>51.685393</td>\n",
       "    </tr>\n",
       "    <tr>\n",
       "      <td>5</td>\n",
       "      <td>KTK</td>\n",
       "      <td>14</td>\n",
       "      <td>6</td>\n",
       "      <td>42.857143</td>\n",
       "    </tr>\n",
       "    <tr>\n",
       "      <td>6</td>\n",
       "      <td>KXIP</td>\n",
       "      <td>176</td>\n",
       "      <td>82</td>\n",
       "      <td>46.590909</td>\n",
       "    </tr>\n",
       "    <tr>\n",
       "      <td>7</td>\n",
       "      <td>MI</td>\n",
       "      <td>187</td>\n",
       "      <td>109</td>\n",
       "      <td>58.288770</td>\n",
       "    </tr>\n",
       "    <tr>\n",
       "      <td>8</td>\n",
       "      <td>PW</td>\n",
       "      <td>46</td>\n",
       "      <td>12</td>\n",
       "      <td>26.086957</td>\n",
       "    </tr>\n",
       "    <tr>\n",
       "      <td>9</td>\n",
       "      <td>RCB</td>\n",
       "      <td>180</td>\n",
       "      <td>84</td>\n",
       "      <td>46.666667</td>\n",
       "    </tr>\n",
       "    <tr>\n",
       "      <td>10</td>\n",
       "      <td>RPS</td>\n",
       "      <td>30</td>\n",
       "      <td>15</td>\n",
       "      <td>50.000000</td>\n",
       "    </tr>\n",
       "    <tr>\n",
       "      <td>11</td>\n",
       "      <td>RR</td>\n",
       "      <td>147</td>\n",
       "      <td>75</td>\n",
       "      <td>51.020408</td>\n",
       "    </tr>\n",
       "    <tr>\n",
       "      <td>12</td>\n",
       "      <td>SRH</td>\n",
       "      <td>108</td>\n",
       "      <td>58</td>\n",
       "      <td>53.703704</td>\n",
       "    </tr>\n",
       "  </tbody>\n",
       "</table>\n",
       "</div>"
      ],
      "text/plain": [
       "    team  matches_played  wins       %win\n",
       "0    CSK             164   100  60.975610\n",
       "1     DC              75    29  38.666667\n",
       "2     DD             177    77  43.502825\n",
       "3     GL              30    13  43.333333\n",
       "4    KKR             178    92  51.685393\n",
       "5    KTK              14     6  42.857143\n",
       "6   KXIP             176    82  46.590909\n",
       "7     MI             187   109  58.288770\n",
       "8     PW              46    12  26.086957\n",
       "9    RCB             180    84  46.666667\n",
       "10   RPS              30    15  50.000000\n",
       "11    RR             147    75  51.020408\n",
       "12   SRH             108    58  53.703704"
      ]
     },
     "execution_count": 20,
     "metadata": {},
     "output_type": "execute_result"
    }
   ],
   "source": [
    "player['%win']=(player['wins']/player['matches_played'])*100\n",
    "player"
   ]
  },
  {
   "cell_type": "markdown",
   "metadata": {},
   "source": [
    "#### Lucky grounds for Teams"
   ]
  },
  {
   "cell_type": "code",
   "execution_count": 21,
   "metadata": {},
   "outputs": [],
   "source": [
    "def lucky(df,team_name):\n",
    "    return df[df['winner']==team_name]['venue'].value_counts().nlargest(5)"
   ]
  },
  {
   "cell_type": "code",
   "execution_count": 22,
   "metadata": {},
   "outputs": [
    {
     "data": {
      "text/plain": [
       "<matplotlib.axes._subplots.AxesSubplot at 0x291665a0788>"
      ]
     },
     "execution_count": 22,
     "metadata": {},
     "output_type": "execute_result"
    },
    {
     "data": {
      "image/png": "[encoded data removed]",
      "text/plain": [
       "<Figure size 432x288 with 1 Axes>"
      ]
     },
     "metadata": {
      "needs_background": "light"
     },
     "output_type": "display_data"
    }
   ],
   "source": [
    "lucky(matches,'MI').plot(kind='bar')"
   ]
  },
  {
   "cell_type": "markdown",
   "metadata": {},
   "source": [
    " <a id=\"t4.\"></a>\n",
    " # 4. Encoding Categotical Features "
   ]
  },
  {
   "cell_type": "markdown",
   "metadata": {},
   "source": [
    "#### Encoding Teams"
   ]
  },
  {
   "cell_type": "code",
   "execution_count": 23,
   "metadata": {},
   "outputs": [
    {
     "data": {
      "text/html": [
       "<div>\n",
       "<style scoped>\n",
       "    .dataframe tbody tr th:only-of-type {\n",
       "        vertical-align: middle;\n",
       "    }\n",
       "\n",
       "    .dataframe tbody tr th {\n",
       "        vertical-align: top;\n",
       "    }\n",
       "\n",
       "    .dataframe thead th {\n",
       "        text-align: right;\n",
       "    }\n",
       "</style>\n",
       "<table border=\"1\" class=\"dataframe\">\n",
       "  <thead>\n",
       "    <tr style=\"text-align: right;\">\n",
       "      <th></th>\n",
       "      <th>id</th>\n",
       "      <th>season</th>\n",
       "      <th>city</th>\n",
       "      <th>date</th>\n",
       "      <th>team1</th>\n",
       "      <th>team2</th>\n",
       "      <th>toss_winner</th>\n",
       "      <th>toss_decision</th>\n",
       "      <th>result</th>\n",
       "      <th>dl_applied</th>\n",
       "      <th>winner</th>\n",
       "      <th>win_by_runs</th>\n",
       "      <th>win_by_wickets</th>\n",
       "      <th>player_of_match</th>\n",
       "      <th>venue</th>\n",
       "      <th>umpire1</th>\n",
       "      <th>umpire2</th>\n",
       "      <th>umpire3</th>\n",
       "    </tr>\n",
       "  </thead>\n",
       "  <tbody>\n",
       "    <tr>\n",
       "      <td>0</td>\n",
       "      <td>1</td>\n",
       "      <td>2017</td>\n",
       "      <td>Hyderabad</td>\n",
       "      <td>2017-04-05</td>\n",
       "      <td>10</td>\n",
       "      <td>3</td>\n",
       "      <td>3</td>\n",
       "      <td>field</td>\n",
       "      <td>normal</td>\n",
       "      <td>0</td>\n",
       "      <td>10</td>\n",
       "      <td>35</td>\n",
       "      <td>0</td>\n",
       "      <td>Yuvraj Singh</td>\n",
       "      <td>Rajiv Gandhi International Stadium, Uppal</td>\n",
       "      <td>AY Dandekar</td>\n",
       "      <td>NJ Llong</td>\n",
       "      <td>NaN</td>\n",
       "    </tr>\n",
       "    <tr>\n",
       "      <td>1</td>\n",
       "      <td>2</td>\n",
       "      <td>2017</td>\n",
       "      <td>Pune</td>\n",
       "      <td>2017-04-06</td>\n",
       "      <td>1</td>\n",
       "      <td>11</td>\n",
       "      <td>11</td>\n",
       "      <td>field</td>\n",
       "      <td>normal</td>\n",
       "      <td>0</td>\n",
       "      <td>11</td>\n",
       "      <td>0</td>\n",
       "      <td>7</td>\n",
       "      <td>SPD Smith</td>\n",
       "      <td>Maharashtra Cricket Association Stadium</td>\n",
       "      <td>A Nand Kishore</td>\n",
       "      <td>S Ravi</td>\n",
       "      <td>NaN</td>\n",
       "    </tr>\n",
       "  </tbody>\n",
       "</table>\n",
       "</div>"
      ],
      "text/plain": [
       "   id  season       city        date  team1  team2  toss_winner toss_decision  \\\n",
       "0   1    2017  Hyderabad  2017-04-05     10      3            3         field   \n",
       "1   2    2017       Pune  2017-04-06      1     11           11         field   \n",
       "\n",
       "   result  dl_applied  winner  win_by_runs  win_by_wickets player_of_match  \\\n",
       "0  normal           0      10           35               0    Yuvraj Singh   \n",
       "1  normal           0      11            0               7       SPD Smith   \n",
       "\n",
       "                                       venue         umpire1   umpire2 umpire3  \n",
       "0  Rajiv Gandhi International Stadium, Uppal     AY Dandekar  NJ Llong     NaN  \n",
       "1    Maharashtra Cricket Association Stadium  A Nand Kishore    S Ravi     NaN  "
      ]
     },
     "execution_count": 23,
     "metadata": {},
     "output_type": "execute_result"
    }
   ],
   "source": [
    "encode = {'team1': {'MI':1,'KKR':2,'RCB':3,'DC':4,'CSK':5,'RR':6,'DD':7,'GL':8,'KXIP':9,'SRH':10,'RPS':11,'KTK':12,'PW':13},\n",
    "          'team2': {'MI':1,'KKR':2,'RCB':3,'DC':4,'CSK':5,'RR':6,'DD':7,'GL':8,'KXIP':9,'SRH':10,'RPS':11,'KTK':12,'PW':13},\n",
    "          'toss_winner': {'MI':1,'KKR':2,'RCB':3,'DC':4,'CSK':5,'RR':6,'DD':7,'GL':8,'KXIP':9,'SRH':10,'RPS':11,'KTK':12,'PW':13},\n",
    "          'winner': {'MI':1,'KKR':2,'RCB':3,'DC':4,'CSK':5,'RR':6,'DD':7,'GL':8,'KXIP':9,'SRH':10,'RPS':11,'KTK':12,'PW':13,'Draw':14}}\n",
    "matches.replace(encode, inplace=True)\n",
    "matches.head(2)"
   ]
  },
  {
   "cell_type": "markdown",
   "metadata": {},
   "source": [
    "#### Encoding City"
   ]
  },
  {
   "cell_type": "code",
   "execution_count": 24,
   "metadata": {},
   "outputs": [
    {
     "name": "stdout",
     "output_type": "stream",
     "text": [
      "[ 0  1  2  3  4  0  5  3  1  5  6  4  2  6  7  5  4  7  0  2  0  3  6  5\n",
      "  1  2  6  5  1  4  6  8  1  2  8  0  5  1  7  6  7  4  0  7  4  8  0  8\n",
      "  9  5  7  9  6  1  7  5  4  4  0  4  8  7  5  6 10  0 11  0  8  4 11  5\n",
      "  8  4  6  7  0 10 11  0  8  5 10  4 11  5  7  6 10  4 11  0 10  8  6  5\n",
      "  8  7  5  7 10  0  6  4  6  5 11  8  7 11  4  6 10  0  5  5  5 12 12 12\n",
      " 12 13 14 12 14 12 14 14 13 12 14 13 15 14 14 15 15 16 14 13 17 13 17 16\n",
      " 14 14 15 15 15 16 18 18 13 17 18 15 15 14 14 14 19 13 17 17 19 15 17 14\n",
      " 14 15 15 15 17 17  5  5  8  6 11 20  4  6  7  4  7 21 20  5 21 11  5  4\n",
      "  8  5 20  8  4 20  5  7  5 11  7  6  8 11  5  6  7 22 11 10  6  4  8 22\n",
      "  4  7 10 22  5 11 10 11 23  4  6 23  7  6  5  5  5  5 11  0 24  7  5  6\n",
      " 10  4  8  5  0 10  5 11  0  5  6 24  7  5  6  8  5  6  7  0 10 11  7  5\n",
      " 24  7 10  4 24  6 10 11  5  7  0 11  5 24  0  4  6  5  4  8 10  0  8 10\n",
      " 11  3  4  5 23  3  5 23 11  5  5 23  7  4  6  5  5 11 11 11  6  5 10  4\n",
      " 25 10  1 25  4  7  5 11  8  6  7  1  6  4  5 10  4  8  0 11  8 11  7  5\n",
      " 21 10  1  8  1  7 11  6  7  5 11 21 10  4  1 11  6  8  5  4  7  1  0  5\n",
      " 10  1  6 11 10  8  4  6  7  5 23  7  0 23  1  0 10  1  4 11 11  6  4  0\n",
      "  7 11  1  0 10  5  8  4  1  7  5 11  6 10 11  8  4  1 10  7  0  6  4  7\n",
      "  8 11  4 23  6 11  6 10  5 11 26 10  5  1  0 26 11  1  6  0  4  5 10  4\n",
      " 10  5  0  8  1  7  1  8 27 10  7  5 27 11  5  8  0 23  1  4  0  7  7  6\n",
      "  6 28 29 28 28 30 30 29 28 29 30 29 30 30 28 28 29 29 30 28 30 27  5  7\n",
      "  4 20  7  5  7 21 20  4  7  5 21  4  0 27  4  0 21 20 27  0 20  7  0  6\n",
      "  8  6 27  5  8  4  6  8  5  6  5  5  4  6 11  1 11  6  7  5  4 20  6  1\n",
      " 25  5 25  1 20  4  7 20 25  4  7 20  5 11  7  8  6  4 11  7  5  4  0  8\n",
      "  5 11  6  5  4  5 11  6 26  5 11  0 26  8  5  0  8  5  4  0  5  1 27  6\n",
      "  5  6  8  4  6  2  7  0  5  8  4  0  8  5  2  1  7  0  2  1  8  0  7  5\n",
      "  1  7  0  2  1  4  2  6  7  0  4  8 25  6  8 25  4  0 25  4  6  8 25  6\n",
      " 25  4  9 26 25  9  6 26  4  7  7  4  5 31  6  0 11 10  0 32  5  6 32 31\n",
      "  6  5 10 31  1  6 32  0 10  7  5 32  0  7  1 10 32  1 32  7  6  3  1  0\n",
      "  5  3  0 10  6  7 10  3  7  1  5  3  6  5 32  7 10  0  7  1  5  6  6  5\n",
      " 11  6  5 10  7  6 32  0 31  7  0 11 31 10  5  7 32 11  0 32 10 31 11  5\n",
      " 10  6  5 31  6  0  5 31  0  7  6 10  7  0 32 10 11 32  6 11 10  7  6  0\n",
      " 32 11  5 31  7 32 31  5 11 25 25  0]\n",
      "Index(['Hyderabad', 'Pune', 'Rajkot', 'Indore', 'Bangalore', 'Mumbai',\n",
      "       'Kolkata', 'Delhi', 'Chandigarh', 'Kanpur', 'Jaipur', 'Chennai',\n",
      "       'Cape Town', 'Port Elizabeth', 'Durban', 'Centurion', 'East London',\n",
      "       'Johannesburg', 'Kimberley', 'Bloemfontein', 'Ahmedabad', 'Cuttack',\n",
      "       'Nagpur', 'Dharamsala', 'Kochi', 'Visakhapatnam', 'Raipur', 'Ranchi',\n",
      "       'Abu Dhabi', 'Sharjah', 'Dubai', 'Mohali', 'Bengaluru'],\n",
      "      dtype='object')\n",
      "25\n"
     ]
    }
   ],
   "source": [
    "cat_list=matches[\"city\"]\n",
    "encoded_data, mapping_index = pd.Series(cat_list).factorize()\n",
    "print(encoded_data)\n",
    "print(mapping_index)\n",
    "print(mapping_index.get_loc(\"Visakhapatnam\"))"
   ]
  },
  {
   "cell_type": "markdown",
   "metadata": {},
   "source": [
    "#### Encoding Venue"
   ]
  },
  {
   "cell_type": "code",
   "execution_count": 25,
   "metadata": {},
   "outputs": [
    {
     "name": "stdout",
     "output_type": "stream",
     "text": [
      "[ 0  1  2  3  4  0  5  3  1  5  6  4  2  6  7  5  4  7  0  2  0  3  6  5\n",
      "  1  2  6  5  1  4  6  8  1  2  8  0  5  1  7  6  7  4  0  7  4  8  0  8\n",
      "  9  5  7  9  6  1  7  5  4  4  0  4 10  7  5  6 11  0 12  0 10  4 12 13\n",
      " 10  4  6  7  0 11 12  0 10 13 11  4 12 13  7  6 11  4 12  0 11 10  6  5\n",
      " 10  7  5  7 11  0  6  4  6  5 12 10  7 12  4  6 11  0  5  5 13 14 14 14\n",
      " 14 15 16 14 16 14 16 16 15 14 16 15 17 16 16 17 17 18 16 15 19 15 19 18\n",
      " 16 16 17 17 17 18 20 20 15 19 20 17 17 16 16 16 21 15 19 19 21 17 19 16\n",
      " 16 17 17 17 19 19 13 22 10  6 12 23  4  6  7  4  7 24 23 22 24 12 22  4\n",
      " 10 22 23 10  4 23 13  7 22 12  7  6 10 12 22  6  7 25 12 11  6  4 10 25\n",
      "  4  7 11 25 22 12 11 12 26  4  6 26  7  6 13 13 13 13 12  0 27  7 13  6\n",
      " 11  4 10 13  0 11  5 12  0 13  6 27  7  5  6 10  5  6  7  0 11 12  7 13\n",
      " 27  7 11  4 27  6 11 12  5  7  0 12 13 27  0  4  6  5  4 10 11  0 10 11\n",
      " 12  3  4  5 26  3 13 26 12 13  5 26  7  4  6  5  5 12 12 12  6  5 11  4\n",
      " 28 11 29 28  4  7  5 12 10  6  7 29  6  4  5 11  4 10  0 12 10 12  7  5\n",
      " 24 11 29 10 29  7 12  6  7  5 12 24 11  4 29 12  6 10  5  4  7 29  0  5\n",
      " 11 29  6 12 11 10  4  6  7  5 26  7  0 26 29  0 11 29  4 12 12  6  4  0\n",
      "  7 12 29  0 11  5 10  4 29  7  5 12  6 11 12 10  4 29 11  7  0  6  4  7\n",
      " 10 12  4 26  6 12  6 11  5 12 30 11  5 29  0 30 12 29  6  0  4  5 11  4\n",
      " 11  5  0 10 29  7 29 10 31 11  7  5 31 12  5 10  0 26 29  4  0  7  7  6\n",
      "  6 32 33 32 32 34 34 33 32 33 34 33 34 34 32 32 33 33 34 32 34 31  5  7\n",
      "  4 23  7  5  7 24 23  4  7  5 24  4  0 31  4  0 24 23 31  0 23  7  0  6\n",
      " 10  6 31  5 10  4  6 10  5  6 22  5  4  6 12  1 12  6  7  5  4 23  6  1\n",
      " 28  5 28  1 23  4  7 23 28  4  7 23  5 12  7 10  6  4 12  7  5  4  0 10\n",
      " 22 12  6  5  4 22 12  6 30  5 12  0 30 10  5  0 10 22  4  0  5  1 31  6\n",
      "  5  6  8  4  6  2  7  0  5  8  4  0  8  5  2  1  7  0  2  1  8  0  7  5\n",
      "  1  7  0  2  1  4  2  6  7  0  4  8 28  6  8 28  4  0 28  4  6  8 28  6\n",
      " 28  4  9 30 28  9  6 30  4  7  7  4  5  8  6  0 12 11  0  4  5  6  4  8\n",
      "  6  5 11  8  1  6  4  0 11  7  5  4  0  7  1 11  4  1  4  7  6  3  1  0\n",
      "  5  3  0 11  6  7 11  3  7  1  5  3  6  5  4  7 11  0  7  1  5  6  6  5\n",
      " 35  6  5 11 36  6 37 38 39 36 38 35 39 11  5 36 37 35 38 37 11 39 35  5\n",
      " 11  6  5 39  6 38  5 39 38 36  6 11 36 38 37 11 35 37  6 35 11 36  6 38\n",
      " 37 35  5 39 36 37 39  5 35 40 40 38]\n"
     ]
    }
   ],
   "source": [
    "cat_list1=matches[\"venue\"]\n",
    "encoded_data1, mapping_index1 = pd.Series(cat_list1).factorize()\n",
    "print(encoded_data1)\n"
   ]
  },
  {
   "cell_type": "code",
   "execution_count": 26,
   "metadata": {},
   "outputs": [
    {
     "name": "stdout",
     "output_type": "stream",
     "text": [
      "Index(['Rajiv Gandhi International Stadium, Uppal',\n",
      "       'Maharashtra Cricket Association Stadium',\n",
      "       'Saurashtra Cricket Association Stadium', 'Holkar Cricket Stadium',\n",
      "       'M Chinnaswamy Stadium', 'Wankhede Stadium', 'Eden Gardens',\n",
      "       'Feroz Shah Kotla',\n",
      "       'Punjab Cricket Association IS Bindra Stadium, Mohali', 'Green Park',\n",
      "       'Punjab Cricket Association Stadium, Mohali', 'Sawai Mansingh Stadium',\n",
      "       'MA Chidambaram Stadium, Chepauk', 'Dr DY Patil Sports Academy',\n",
      "       'Newlands', 'St George's Park', 'Kingsmead', 'SuperSport Park',\n",
      "       'Buffalo Park', 'New Wanderers Stadium', 'De Beers Diamond Oval',\n",
      "       'OUTsurance Oval', 'Brabourne Stadium', 'Sardar Patel Stadium, Motera',\n",
      "       'Barabati Stadium', 'Vidarbha Cricket Association Stadium, Jamtha',\n",
      "       'Himachal Pradesh Cricket Association Stadium', 'Nehru Stadium',\n",
      "       'Dr. Y.S. Rajasekhara Reddy ACA-VDCA Cricket Stadium',\n",
      "       'Subrata Roy Sahara Stadium',\n",
      "       'Shaheed Veer Narayan Singh International Stadium',\n",
      "       'JSCA International Stadium Complex', 'Sheikh Zayed Stadium',\n",
      "       'Sharjah Cricket Stadium', 'Dubai International Cricket Stadium',\n",
      "       'M. A. Chidambaram Stadium', 'Feroz Shah Kotla Ground',\n",
      "       'M. Chinnaswamy Stadium', 'Rajiv Gandhi Intl. Cricket Stadium',\n",
      "       'IS Bindra Stadium', 'ACA-VDCA Stadium'],\n",
      "      dtype='object')\n",
      "28\n"
     ]
    }
   ],
   "source": [
    "print(mapping_index1)\n",
    "print(mapping_index1.get_loc(\"Dr. Y.S. Rajasekhara Reddy ACA-VDCA Cricket Stadium\"))"
   ]
  },
  {
   "cell_type": "markdown",
   "metadata": {},
   "source": [
    "#### Encoding Toss decision"
   ]
  },
  {
   "cell_type": "code",
   "execution_count": 27,
   "metadata": {},
   "outputs": [
    {
     "name": "stdout",
     "output_type": "stream",
     "text": [
      "Index(['field', 'bat'], dtype='object')\n",
      "0\n"
     ]
    }
   ],
   "source": [
    "cat_list2=matches[\"toss_decision\"]\n",
    "encoded_data2, mapping_index2 = pd.Series(cat_list2).factorize()\n",
    "#print(encoded_data2)\n",
    "print(mapping_index2)\n",
    "print(mapping_index2.get_loc(\"field\"))"
   ]
  },
  {
   "cell_type": "markdown",
   "metadata": {},
   "source": [
    "<a id=\"t5.\"></a>\n",
    "# 5. Feature Selection"
   ]
  },
  {
   "cell_type": "markdown",
   "metadata": {},
   "source": [
    "#### Dropping features which are not useful for prediction"
   ]
  },
  {
   "cell_type": "code",
   "execution_count": 28,
   "metadata": {},
   "outputs": [
    {
     "data": {
      "text/html": [
       "<div>\n",
       "<style scoped>\n",
       "    .dataframe tbody tr th:only-of-type {\n",
       "        vertical-align: middle;\n",
       "    }\n",
       "\n",
       "    .dataframe tbody tr th {\n",
       "        vertical-align: top;\n",
       "    }\n",
       "\n",
       "    .dataframe thead th {\n",
       "        text-align: right;\n",
       "    }\n",
       "</style>\n",
       "<table border=\"1\" class=\"dataframe\">\n",
       "  <thead>\n",
       "    <tr style=\"text-align: right;\">\n",
       "      <th></th>\n",
       "      <th>team1</th>\n",
       "      <th>team2</th>\n",
       "      <th>city</th>\n",
       "      <th>toss_decision</th>\n",
       "      <th>toss_winner</th>\n",
       "      <th>venue</th>\n",
       "      <th>winner</th>\n",
       "    </tr>\n",
       "  </thead>\n",
       "  <tbody>\n",
       "    <tr>\n",
       "      <td>0</td>\n",
       "      <td>10</td>\n",
       "      <td>3</td>\n",
       "      <td>Hyderabad</td>\n",
       "      <td>field</td>\n",
       "      <td>3</td>\n",
       "      <td>Rajiv Gandhi International Stadium, Uppal</td>\n",
       "      <td>10</td>\n",
       "    </tr>\n",
       "    <tr>\n",
       "      <td>1</td>\n",
       "      <td>1</td>\n",
       "      <td>11</td>\n",
       "      <td>Pune</td>\n",
       "      <td>field</td>\n",
       "      <td>11</td>\n",
       "      <td>Maharashtra Cricket Association Stadium</td>\n",
       "      <td>11</td>\n",
       "    </tr>\n",
       "    <tr>\n",
       "      <td>2</td>\n",
       "      <td>8</td>\n",
       "      <td>2</td>\n",
       "      <td>Rajkot</td>\n",
       "      <td>field</td>\n",
       "      <td>2</td>\n",
       "      <td>Saurashtra Cricket Association Stadium</td>\n",
       "      <td>2</td>\n",
       "    </tr>\n",
       "    <tr>\n",
       "      <td>3</td>\n",
       "      <td>11</td>\n",
       "      <td>9</td>\n",
       "      <td>Indore</td>\n",
       "      <td>field</td>\n",
       "      <td>9</td>\n",
       "      <td>Holkar Cricket Stadium</td>\n",
       "      <td>9</td>\n",
       "    </tr>\n",
       "    <tr>\n",
       "      <td>4</td>\n",
       "      <td>3</td>\n",
       "      <td>7</td>\n",
       "      <td>Bangalore</td>\n",
       "      <td>bat</td>\n",
       "      <td>3</td>\n",
       "      <td>M Chinnaswamy Stadium</td>\n",
       "      <td>3</td>\n",
       "    </tr>\n",
       "    <tr>\n",
       "      <td>...</td>\n",
       "      <td>...</td>\n",
       "      <td>...</td>\n",
       "      <td>...</td>\n",
       "      <td>...</td>\n",
       "      <td>...</td>\n",
       "      <td>...</td>\n",
       "      <td>...</td>\n",
       "    </tr>\n",
       "    <tr>\n",
       "      <td>751</td>\n",
       "      <td>2</td>\n",
       "      <td>1</td>\n",
       "      <td>Mumbai</td>\n",
       "      <td>field</td>\n",
       "      <td>1</td>\n",
       "      <td>Wankhede Stadium</td>\n",
       "      <td>1</td>\n",
       "    </tr>\n",
       "    <tr>\n",
       "      <td>752</td>\n",
       "      <td>5</td>\n",
       "      <td>1</td>\n",
       "      <td>Chennai</td>\n",
       "      <td>bat</td>\n",
       "      <td>5</td>\n",
       "      <td>M. A. Chidambaram Stadium</td>\n",
       "      <td>1</td>\n",
       "    </tr>\n",
       "    <tr>\n",
       "      <td>753</td>\n",
       "      <td>10</td>\n",
       "      <td>7</td>\n",
       "      <td>Visakhapatnam</td>\n",
       "      <td>field</td>\n",
       "      <td>7</td>\n",
       "      <td>ACA-VDCA Stadium</td>\n",
       "      <td>7</td>\n",
       "    </tr>\n",
       "    <tr>\n",
       "      <td>754</td>\n",
       "      <td>7</td>\n",
       "      <td>5</td>\n",
       "      <td>Visakhapatnam</td>\n",
       "      <td>field</td>\n",
       "      <td>5</td>\n",
       "      <td>ACA-VDCA Stadium</td>\n",
       "      <td>5</td>\n",
       "    </tr>\n",
       "    <tr>\n",
       "      <td>755</td>\n",
       "      <td>1</td>\n",
       "      <td>5</td>\n",
       "      <td>Hyderabad</td>\n",
       "      <td>bat</td>\n",
       "      <td>1</td>\n",
       "      <td>Rajiv Gandhi Intl. Cricket Stadium</td>\n",
       "      <td>1</td>\n",
       "    </tr>\n",
       "  </tbody>\n",
       "</table>\n",
       "<p>756 rows × 7 columns</p>\n",
       "</div>"
      ],
      "text/plain": [
       "     team1  team2           city toss_decision  toss_winner  \\\n",
       "0       10      3      Hyderabad         field            3   \n",
       "1        1     11           Pune         field           11   \n",
       "2        8      2         Rajkot         field            2   \n",
       "3       11      9         Indore         field            9   \n",
       "4        3      7      Bangalore           bat            3   \n",
       "..     ...    ...            ...           ...          ...   \n",
       "751      2      1         Mumbai         field            1   \n",
       "752      5      1        Chennai           bat            5   \n",
       "753     10      7  Visakhapatnam         field            7   \n",
       "754      7      5  Visakhapatnam         field            5   \n",
       "755      1      5      Hyderabad           bat            1   \n",
       "\n",
       "                                         venue  winner  \n",
       "0    Rajiv Gandhi International Stadium, Uppal      10  \n",
       "1      Maharashtra Cricket Association Stadium      11  \n",
       "2       Saurashtra Cricket Association Stadium       2  \n",
       "3                       Holkar Cricket Stadium       9  \n",
       "4                        M Chinnaswamy Stadium       3  \n",
       "..                                         ...     ...  \n",
       "751                           Wankhede Stadium       1  \n",
       "752                  M. A. Chidambaram Stadium       1  \n",
       "753                           ACA-VDCA Stadium       7  \n",
       "754                           ACA-VDCA Stadium       5  \n",
       "755         Rajiv Gandhi Intl. Cricket Stadium       1  \n",
       "\n",
       "[756 rows x 7 columns]"
      ]
     },
     "execution_count": 28,
     "metadata": {},
     "output_type": "execute_result"
    }
   ],
   "source": [
    "matches = matches[['team1','team2','city','toss_decision','toss_winner','venue','winner']]\n",
    "df = pd.DataFrame(matches)\n",
    "df"
   ]
  },
  {
   "cell_type": "markdown",
   "metadata": {},
   "source": [
    "#### Building predictive model , convert categorical to numerical data"
   ]
  },
  {
   "cell_type": "code",
   "execution_count": 29,
   "metadata": {},
   "outputs": [
    {
     "data": {
      "text/html": [
       "<div>\n",
       "<style scoped>\n",
       "    .dataframe tbody tr th:only-of-type {\n",
       "        vertical-align: middle;\n",
       "    }\n",
       "\n",
       "    .dataframe tbody tr th {\n",
       "        vertical-align: top;\n",
       "    }\n",
       "\n",
       "    .dataframe thead th {\n",
       "        text-align: right;\n",
       "    }\n",
       "</style>\n",
       "<table border=\"1\" class=\"dataframe\">\n",
       "  <thead>\n",
       "    <tr style=\"text-align: right;\">\n",
       "      <th></th>\n",
       "      <th>team1</th>\n",
       "      <th>team2</th>\n",
       "      <th>city</th>\n",
       "      <th>toss_decision</th>\n",
       "      <th>toss_winner</th>\n",
       "      <th>venue</th>\n",
       "      <th>winner</th>\n",
       "    </tr>\n",
       "  </thead>\n",
       "  <tbody>\n",
       "    <tr>\n",
       "      <td>0</td>\n",
       "      <td>10</td>\n",
       "      <td>3</td>\n",
       "      <td>15</td>\n",
       "      <td>1</td>\n",
       "      <td>3</td>\n",
       "      <td>28</td>\n",
       "      <td>10</td>\n",
       "    </tr>\n",
       "    <tr>\n",
       "      <td>1</td>\n",
       "      <td>1</td>\n",
       "      <td>11</td>\n",
       "      <td>27</td>\n",
       "      <td>1</td>\n",
       "      <td>11</td>\n",
       "      <td>21</td>\n",
       "      <td>11</td>\n",
       "    </tr>\n",
       "    <tr>\n",
       "      <td>2</td>\n",
       "      <td>8</td>\n",
       "      <td>2</td>\n",
       "      <td>29</td>\n",
       "      <td>1</td>\n",
       "      <td>2</td>\n",
       "      <td>31</td>\n",
       "      <td>2</td>\n",
       "    </tr>\n",
       "    <tr>\n",
       "      <td>3</td>\n",
       "      <td>11</td>\n",
       "      <td>9</td>\n",
       "      <td>16</td>\n",
       "      <td>1</td>\n",
       "      <td>9</td>\n",
       "      <td>13</td>\n",
       "      <td>9</td>\n",
       "    </tr>\n",
       "    <tr>\n",
       "      <td>4</td>\n",
       "      <td>3</td>\n",
       "      <td>7</td>\n",
       "      <td>2</td>\n",
       "      <td>0</td>\n",
       "      <td>3</td>\n",
       "      <td>17</td>\n",
       "      <td>3</td>\n",
       "    </tr>\n",
       "    <tr>\n",
       "      <td>...</td>\n",
       "      <td>...</td>\n",
       "      <td>...</td>\n",
       "      <td>...</td>\n",
       "      <td>...</td>\n",
       "      <td>...</td>\n",
       "      <td>...</td>\n",
       "      <td>...</td>\n",
       "    </tr>\n",
       "    <tr>\n",
       "      <td>751</td>\n",
       "      <td>2</td>\n",
       "      <td>1</td>\n",
       "      <td>24</td>\n",
       "      <td>1</td>\n",
       "      <td>1</td>\n",
       "      <td>40</td>\n",
       "      <td>1</td>\n",
       "    </tr>\n",
       "    <tr>\n",
       "      <td>752</td>\n",
       "      <td>5</td>\n",
       "      <td>1</td>\n",
       "      <td>8</td>\n",
       "      <td>0</td>\n",
       "      <td>5</td>\n",
       "      <td>18</td>\n",
       "      <td>1</td>\n",
       "    </tr>\n",
       "    <tr>\n",
       "      <td>753</td>\n",
       "      <td>10</td>\n",
       "      <td>7</td>\n",
       "      <td>32</td>\n",
       "      <td>1</td>\n",
       "      <td>7</td>\n",
       "      <td>0</td>\n",
       "      <td>7</td>\n",
       "    </tr>\n",
       "    <tr>\n",
       "      <td>754</td>\n",
       "      <td>7</td>\n",
       "      <td>5</td>\n",
       "      <td>32</td>\n",
       "      <td>1</td>\n",
       "      <td>5</td>\n",
       "      <td>0</td>\n",
       "      <td>5</td>\n",
       "    </tr>\n",
       "    <tr>\n",
       "      <td>755</td>\n",
       "      <td>1</td>\n",
       "      <td>5</td>\n",
       "      <td>15</td>\n",
       "      <td>0</td>\n",
       "      <td>1</td>\n",
       "      <td>29</td>\n",
       "      <td>1</td>\n",
       "    </tr>\n",
       "  </tbody>\n",
       "</table>\n",
       "<p>756 rows × 7 columns</p>\n",
       "</div>"
      ],
      "text/plain": [
       "     team1  team2  city  toss_decision  toss_winner  venue  winner\n",
       "0       10      3    15              1            3     28      10\n",
       "1        1     11    27              1           11     21      11\n",
       "2        8      2    29              1            2     31       2\n",
       "3       11      9    16              1            9     13       9\n",
       "4        3      7     2              0            3     17       3\n",
       "..     ...    ...   ...            ...          ...    ...     ...\n",
       "751      2      1    24              1            1     40       1\n",
       "752      5      1     8              0            5     18       1\n",
       "753     10      7    32              1            7      0       7\n",
       "754      7      5    32              1            5      0       5\n",
       "755      1      5    15              0            1     29       1\n",
       "\n",
       "[756 rows x 7 columns]"
      ]
     },
     "execution_count": 29,
     "metadata": {},
     "output_type": "execute_result"
    }
   ],
   "source": [
    "from sklearn.preprocessing import LabelEncoder\n",
    "var_mod = ['city','toss_decision','venue']\n",
    "le = LabelEncoder()\n",
    "for i in var_mod:\n",
    "    df[i] = le.fit_transform(df[i])\n",
    "df "
   ]
  },
  {
   "cell_type": "markdown",
   "metadata": {},
   "source": [
    "<a id=\"t6.\"></a>\n",
    "# 6. Model Building"
   ]
  },
  {
   "cell_type": "markdown",
   "metadata": {},
   "source": [
    "#### Generalized Funtion"
   ]
  },
  {
   "cell_type": "code",
   "execution_count": 30,
   "metadata": {},
   "outputs": [],
   "source": [
    "#Import models from scikit learn module:\n",
    "from sklearn.linear_model import LogisticRegression\n",
    "from sklearn.ensemble import RandomForestClassifier\n",
    "from sklearn.tree import DecisionTreeClassifier, export_graphviz\n",
    "from sklearn import metrics\n",
    "\n",
    "#Generic function for making a classification model and accessing performance:\n",
    "def classification_model(model, data, predictors, outcome):\n",
    "    model.fit(data[predictors],data[outcome])\n",
    "    predictions = model.predict(data[predictors])\n",
    "    print(predictions)\n",
    "    accuracy = metrics.accuracy_score(predictions,data[outcome])\n",
    "    print('Accuracy : %s' % '{0:.3%}'.format(accuracy))\n",
    "\n",
    "  "
   ]
  },
  {
   "cell_type": "markdown",
   "metadata": {},
   "source": [
    "#### Logistic Regression"
   ]
  },
  {
   "cell_type": "code",
   "execution_count": 31,
   "metadata": {},
   "outputs": [
    {
     "name": "stdout",
     "output_type": "stream",
     "text": [
      "[ 9  1  1  9  5  9  1  5  9  1  2  3  9  2 10  1  9  5  9  1 10  2  2  1\n",
      "  9  9  2  1  2  3  2  9  2  1  9  9  1  9  9  7  9  9  9  3  3  9  5  9\n",
      "  9  1 10  9  2  9  5  1  9  3  5  3  6  5  1  2  6  5  3  3  3  3  5  2\n",
      " 10  5  1  2  6  1  5  1  6  2  6  3  3  2  9  2  1  3  9  1  6  5  5  1\n",
      "  9  3  1 10  1  1  2  3  2  1  5  3  3  5  3  2  1  5  6  6  2  3  5  9\n",
      "  5  1  2  5  5  3  5  1  1  6  3  1  6  1  5  6  6  2  5  1  3  5  1  5\n",
      "  9  5  6  6  6  5  2  5  1  1  5  1  6  3  5  5  9  1  1  9  6  6  5  2\n",
      "  5  3  6  6  1  1  2  2  9  2  5  9  5  2  3  3  5  3  6  2  5  9  2  3\n",
      "  9  2  6  5  3  6  2  5  2  5  5  2  6  5  2  5  5  6  5  6  5  3  5  1\n",
      "  3 10  1  1  2  5  6  5  9  3  2  9  5  1  2  2  2  2  5  3  5  5 10  2\n",
      "  6  3  9 10  1  1  6  5  6  9  2  9  5  6  2  9  1  2  9  1  9  9  2 10\n",
      "  9  3  1  9 10  2  9  5  1  9  1  5  7  9  3  3  2  1  5 10  6 10  3  1\n",
      "  5  9  3  1  9  9  7  5 10  2  1  3 10  3  2  1  1  1  5  3  2  9  9  3\n",
      "  2  1 10  2  3  3  1  5  9  2  5 10  2  5  1  6  5  6  5  9  9  5  9  1\n",
      "  2  1 10  6 10  2  5  2  5  1  5 14  6  3  6  5  7 10  1  3  5  6  9  1\n",
      "  6  6  1  9 10  5  3  2 10  1  9  3  5  9 10  1  1  1  3  3  5  2  3  9\n",
      "  5  5 10  5  1  1  9  3 10 10  6  3  7  9 10  9  3 10  1  5 10  2  3  5\n",
      "  9  5  9  9  1  5  2  6  1  3  9  1  1 10  5  1  5 10  2 10  3  1 10  5\n",
      "  6  1  9  9 10  3  6  9  1  6  9  6  2  5  1  3  6  2 10  3  5  5 10  2\n",
      "  2  1  1  6  9  2  5  6  6  9  3  1 10  5  3  9  1  6  3  6  2  2  6  9\n",
      "  9  3  9  1  5  9  9  9  9  1  2  5  6  2  3  9  2  9  2  6  6  9  5  2\n",
      "  3  2  2  1  9  3  2  9  1  2  2  6  9  2  3  7 10  2  9  1  3  6  2 10\n",
      "  2  1 10  2  6  3  2  9  2  3  2  3  6  5  2  9  5  3  3  9  1  3  9  5\n",
      "  2  5  2  1  3  7  5  2  6  1  5 10  5  9  1  6  6  2  3  6  1  1  2  2\n",
      "  6  2  9  3  2 10  9  6  1 10  3  3  9  1  9  5  2  9  1  2  3  9  9  1\n",
      "  9  2  9  9  2  3  9  2  9  9  9  9  2  2  3 10  3  9  2  3  5 10  2  2\n",
      "  7  3  2  9 10  2  2  1  3  9  9  5  1  9  2  9  3  6  3  9  1  2  3  9\n",
      "  2  1  1 10  2  2  3  9  1  9  1  3  9  2  1  6  3  2  3  9  2  2  1 10\n",
      "  1  9  9  6  2 10  6  3  2  2  1  2  2  1  3  9  6  6  5  2  6  2  2  6\n",
      "  3  2  1  9  5  2  3 10  2  3  9  3  9  1  1  9  3  5  3  3  1  9  3  1\n",
      "  6  2  1  2  2  9  1  7 10  5  2  1  9  6  3  6  9  3  2  3  9  5  2  9\n",
      "  3  3  6  2  5  9  7  1  5  2  2  1]\n",
      "Accuracy : 31.217%\n"
     ]
    },
    {
     "name": "stderr",
     "output_type": "stream",
     "text": [
      "C:\\Users\\parva\\Anaconda3\\lib\\site-packages\\sklearn\\utils\\validation.py:72: DataConversionWarning: A column-vector y was passed when a 1d array was expected. Please change the shape of y to (n_samples, ), for example using ravel().\n",
      "  return f(**kwargs)\n",
      "C:\\Users\\parva\\Anaconda3\\lib\\site-packages\\sklearn\\linear_model\\_logistic.py:764: ConvergenceWarning: lbfgs failed to converge (status=1):\n",
      "STOP: TOTAL NO. of ITERATIONS REACHED LIMIT.\n",
      "\n",
      "Increase the number of iterations (max_iter) or scale the data as shown in:\n",
      "    https://scikit-learn.org/stable/modules/preprocessing.html\n",
      "Please also refer to the documentation for alternative solver options:\n",
      "    https://scikit-learn.org/stable/modules/linear_model.html#logistic-regression\n",
      "  extra_warning_msg=_LOGISTIC_SOLVER_CONVERGENCE_MSG)\n"
     ]
    }
   ],
   "source": [
    "#logistic Regression\n",
    "outcome_var=['winner']\n",
    "predictor_var = ['team1', 'team2', 'venue', 'toss_winner','city','toss_decision']\n",
    "model =LogisticRegression(multi_class=\"auto\")\n",
    "classification_model(model, df,predictor_var,outcome_var)"
   ]
  },
  {
   "cell_type": "markdown",
   "metadata": {},
   "source": [
    "#### Conclusion\n",
    "Accuracy score from logistic regression is 31.21 % ,which is a case of underfitting\n",
    "\n",
    "Hence we will proceed with better alogorithms "
   ]
  },
  {
   "cell_type": "markdown",
   "metadata": {},
   "source": [
    "#### Gaussian NAive bayes algorithm"
   ]
  },
  {
   "cell_type": "code",
   "execution_count": 32,
   "metadata": {},
   "outputs": [
    {
     "name": "stdout",
     "output_type": "stream",
     "text": [
      "[12 12 12 12  5 12  1  5 12 12 12  3 12 12  7 12  3  5 12 12 10 12 12 12\n",
      " 12 12 12 12 12  8 12 12 12  1 12 12  1 12 12 12 12  3 12 12  3 12  1 12\n",
      " 12 12  7 12 12 12  5 12  3  3  1  3  5  5  1  2  6  5 12 12 12  3  5 12\n",
      "  5  5  2 12 12  5  5  5  6 12  6  3 12 12 12  2 12  3 12  1 12  5  2 12\n",
      " 12 12  1  7 12 12  2  3 12 12  5 12 12  5  3  2 12  5 12  6 12  3  5  9\n",
      "  3  1 12  5  5  3  5  2  1  6 12  1  6  2  2  6  6  2  5  1 12  1  1  5\n",
      " 12  5  1  6  6  2 12  5  1 12  5  1  6 12  5  5  9  1 12 12  6  5  5 12\n",
      "  5  6  1  6 12 12 12  2 12 12  5  6  3  2 12  3  5 12  5  2  5 12  2  3\n",
      " 12 12  5  5  3  6 12  5 12  5  5  2  6  5  2  2  5  6  5  6  2  3  1  1\n",
      "  3  7 12 12  2  5  6  5 12  3  2 12  5  2  2  2  2  2  5 12 10  2 13  2\n",
      "  6  3 12 13 12 12 12  5 12 12 12 12  5 13 12 12 12 12 12 12 12 12 12 13\n",
      " 12 12 12 12 10 12 12  5 12 12 12  5 12 12 12  3  2 12  9 10 12 10 12 12\n",
      "  5 12  3  1 12 12 12  7 10 12  1 12 10  3 12 12  1  3  5 12 12 12 12  3\n",
      " 12 12 13  2  3 12 12  5 12  2  5 10 12  5 12  5 10  6  5 12 12  5 12  1\n",
      " 12 12 13  3 10 12  6  2  5 12  5  4  6  3  1  5  1  5 12  3  5 13 12 12\n",
      " 12 12  2 12 10  5  3 12  7  1 12 12  5 12  1 12  1  1  3 12  5 12  3 12\n",
      "  5  1 13  5 12  1 12  3 13  7  1 12  2 12 10 12  3 12  1  5 10  2  3  2\n",
      " 12  5 12 12  2  9  2 10  1 12 12 12  1 10  1  1  5  1  2 10  3  1 13  9\n",
      "  6  1 12 12  1 12 13 12 12 12 12 13 12  5 12 12 10 12 13  3  1  2  7  2\n",
      "  2  1 12  5  9 12  2 12  6 12 12  1  7  2  6  3  1 13 12  5 12  2  1 12\n",
      "  3  3 12 12  5 12  9  3 12 12 12  5 10  5  3 12  2  6  2 10  3 12  5 12\n",
      " 12 12 12 12 12  3 12 12 12 12 12 12  3 12 12 12  5 12 12 12  9  3 12 10\n",
      " 12  1  7 12  5  3 12  9 12  3 12  3  1  5 12 12  2  3 12 12 12  3 12  1\n",
      " 12  5 12  1  3 12  5  2 13  1  5 10  6 12 12 10  6  2  3 10  1  5 12 12\n",
      "  1 12 12  9 12 13 12 10 12 10  3 12 12 12 12 12 12 12  1 12 12 12 12  1\n",
      " 12 12 12 12 12  3 12 12 12 12  3 12 12 12 12 13  3 12  1  8 13 10 12 12\n",
      " 12  3 12 12 13 12 12 12  3 12 12  9 12 12 12 12 12 12 12  3 12 12  3 12\n",
      " 12 12 12 10 12 12  3 12  1 12 12  3 12 12 12 10  3 12  3 12 12 12 12 10\n",
      " 12 12 12  6 12  7  6 12 12 12 12 12 12 12 12 12  6 10  2 12 12 12 12 12\n",
      " 12 12 12 12  5 12  3  5 12 12 12 12 12 12 12 12  3  5 12  3 12 12 12 12\n",
      " 12 12 12 12 12 12 12 12  5  2 12 12 12 12  3 12 12  9 12 12 12  5 12 12\n",
      "  3 12  1 12  5  3 12  1  5 12 12  1]\n",
      "Accuracy : 19.312%\n"
     ]
    },
    {
     "name": "stderr",
     "output_type": "stream",
     "text": [
      "C:\\Users\\parva\\Anaconda3\\lib\\site-packages\\sklearn\\utils\\validation.py:72: DataConversionWarning: A column-vector y was passed when a 1d array was expected. Please change the shape of y to (n_samples, ), for example using ravel().\n",
      "  return f(**kwargs)\n"
     ]
    }
   ],
   "source": [
    "from sklearn.naive_bayes import GaussianNB\n",
    "outcome_var=['winner']\n",
    "predictor_var = ['team1', 'team2', 'venue', 'toss_winner','city','toss_decision']\n",
    "model = GaussianNB() \n",
    "classification_model(model, df,predictor_var,outcome_var)"
   ]
  },
  {
   "cell_type": "markdown",
   "metadata": {},
   "source": [
    "#### Conclusion\n",
    "Accuracy score from Gaussian Naive Bayes is 19.312 % ,which is a case of underfitting\n",
    "\n",
    "Hence we will proceed with better alogorithms "
   ]
  },
  {
   "cell_type": "markdown",
   "metadata": {},
   "source": [
    "#### KNN Algorithm"
   ]
  },
  {
   "cell_type": "code",
   "execution_count": 33,
   "metadata": {},
   "outputs": [
    {
     "name": "stderr",
     "output_type": "stream",
     "text": [
      "C:\\Users\\parva\\Anaconda3\\lib\\site-packages\\ipykernel_launcher.py:9: DataConversionWarning: A column-vector y was passed when a 1d array was expected. Please change the shape of y to (n_samples, ), for example using ravel().\n",
      "  if __name__ == '__main__':\n"
     ]
    },
    {
     "name": "stdout",
     "output_type": "stream",
     "text": [
      "[10  3  3  9  3 10  1  9 11  1  2  1  9  2  9  9  3  2 10  3 10  1  8  1\n",
      " 11  9  2 11  2  3  2 10  2  1  9 10  1 11  7  2  7  9  9  1  2  8 10  9\n",
      "  7  9 10  7  1 11  4 11  2  1 10  3  5  7  1  2  6  7  5  6  9  6  5  1\n",
      "  9  3  1  3  9  6  5  4  2  1  6  9  5  1  5  2  6  1  5  2  6  9  2  1\n",
      "  9  7  1  9  2  1  5  7  6  9  5  9  1  5  3  2  6  7  6  1  6  1  1  9\n",
      "  4  4  2  4  7  2  3  3  2  7  3  1  5  4  9  5  5  1  3  5  3  2  4  5\n",
      "  5  3  2  5  5  7  9  4  1  4  4  3  1  3  4  3  9  1  4  3  7  4  3  2\n",
      "  3  7  3  2  4  4  1  1  9  2  3  6  3  2  1  3  5  4  6  1  4  5  1  3\n",
      "  9  1  6  1  3  6  1  2  1  5  7  2  2  5  1  2  2  6  1  6  2  3  1  4\n",
      "  3  9  6  4  1  5  6  5  4  1  2  4  4  2  1  3  2  5  2  6  3  1 13  2\n",
      "  6  1  9 13  4  2  1  5  9  4  2  4  4  1  2  9  5  2  9  1  6  5  3  2\n",
      "  4  3  6  3  7  2  6  5  1 10  1  5  1  2  6  9  2  1  3 10  6 10  9  2\n",
      "  5  9  3  1  9  9  2  5  5  2  1  4  7  3  1  5  1  1  5  5  7 11  6  7\n",
      "  1  2 13  1  3  7  1  5  9  2  4  4  2  3  1  6  3  2  7  5  9  5  7  1\n",
      "  2  6  6  1  3  7  9  2  7  1  2  4  7  9  2  5  2  5  1  3  2  6 10  1\n",
      "  5  3  2  5  6  9  1  5  7  1  4  3  6  9  2  4  6  2  1  5  2  2  1 10\n",
      "  7  5 13 10  2  1  9  3 13 10  1  5  2  6  5  9  3  9  6  4 10  5  3  1\n",
      "  9  5  3  9  1  5  2  6  1  5 10  6  1  4 10  7  5  2  2 10  9  1  6  3\n",
      "  6  1  5  9  2  3  1 10  2  6  9  1  2  5  1  9 10  7  6  3 10  1  6  2\n",
      "  5  6  3  5  5  3  3  9  5  9  7  2  6  3  5  6  7  5  3  6 10  5  1  6\n",
      "  3  6  5  1  2  2  6  9 10  5  2  3  1  5  7 10  2  6  5  2  6  9 10  2\n",
      "  9  2  5  1  9  3  2  9  1  2  1  5  2  1  5  5  5  2  6  9  3  6  2  6\n",
      "  6  1 11  2  6  1  7  6 10  3  7  6  1  5  3 10  2  6  5  7  1  3 10  1\n",
      "  6  5  2  1  9  6  1  2  7  1  5 10  6  9  1  2  2  5  3  1  1  5  5  5\n",
      "  1  2  8  3  1  8  7  2  1 10  7 10  9  1  9  3  7 10  7  2  1 11  7  1\n",
      "  7  7 10  9  2  2  9  2 10 10  3  7 10  8  9 11  1 10  1  3  2 10  1  2\n",
      " 11  9  8  7 11  8  2  3  3  2 10  3  5  9  2  5  5  7 10  9  1  2  3  9\n",
      "  7  1  2  9  5  2  3  5  6  7  1  3 10  7  1  6  2  5  1  6  2  1  5 10\n",
      "  1  2 10  6  1 10  6  2  3  5  1  1  2  1  3  5  6  2  1  5  5  6  2  5\n",
      "  5  2  1  6  5  2  1 10  9  7 10  5  9  6  5 10  2  5 10  7  2  9  5  9\n",
      "  5  7  1  2  5 10  1  9 10  1  2  6  7 10  3  7  5  3  6  5  6  7  1 10\n",
      "  3  5  1  2  7  3  9  1  1  5  5  1]\n",
      "Accuracy : 66.005%\n"
     ]
    }
   ],
   "source": [
    "#applying knn algorithm\n",
    "from sklearn.neighbors import KNeighborsClassifier\n",
    "model = KNeighborsClassifier(n_neighbors=3)\n",
    "classification_model(model, df,predictor_var,outcome_var)"
   ]
  },
  {
   "cell_type": "markdown",
   "metadata": {},
   "source": [
    "#### Conclusion \n",
    "Accuracy score from KNN is 66.005% ,which could be used for predictions\n",
    "\n",
    "Still we will proceed with better algorithm\n"
   ]
  },
  {
   "cell_type": "markdown",
   "metadata": {},
   "source": [
    "#### Decision Tree "
   ]
  },
  {
   "cell_type": "code",
   "execution_count": 34,
   "metadata": {},
   "outputs": [
    {
     "name": "stdout",
     "output_type": "stream",
     "text": [
      "[10 11  2  9  3 10  1  9  7  1  2  1  8  2  9  1  3  2 10  3 10  1  8  1\n",
      " 11  9  3 11  2  3  2 10 11  1  9 10  1 11  7 11  7  9 11  1  2  8 10  2\n",
      "  7  9  7 10  1 11  3 11  2  1  1  3  5  6  1  2  6  7  1  6  9  6  5  1\n",
      "  9  5  1  3  9  6  5  3  2  1  6  3  4  1  5  2  6  1  5  2  6  9  2  1\n",
      "  9  7  1  9  3  1  5  3  6  9  5  9  1  5  3  2  6  5  6  5  6  1  3  7\n",
      "  4  5  2  4  7  6  3  4  7  9  4  1  6  3  9  7  5  1  3  6  5  9  3  5\n",
      "  6  7  4  6  5  7  9  5  1  7  4  3  1  7  3  6  9  5  4  9  7  2  3  2\n",
      "  5  7  3  4  3  4  2  1  7  2  4  6  3  2  1  3  5  4  6  3  4  9  1  3\n",
      "  6  1  6  2  3  6  1  2  1  5  7  2  3  5  1  9  7  6  1  6  2  3  1  4\n",
      "  3  9  6  4  1  5  3  5  4  1  2  5  4  1  1  5  3  5  2  6  3  1 13  2\n",
      "  6  1  9 13  4  2 12  5  9  7  2 12  4  1 12  9  1  3  9  1  6  5  3  5\n",
      "  4  2  6  3  7  2  6  5  1 12  2  5  1 12  7  3  2  1  3 13  5 13  9  3\n",
      "  5  9  3  4  9 12  4  9  5  2  6  4 14  3  1  5  1  3  5  1  7 13  6  3\n",
      "  5  2  9  1  3  7  1  5  9  2  4  5  2  6  1  6  3  2  7  5  3  5 13  1\n",
      "  2  6  7  1  4  7  9  2  7  1  2  4  7  3  1  5  2  6  1  3  2  6  9  1\n",
      "  5  3  1  5  6  9  1  5  7  1  9  3  4  9  2  4  1  2  5  5  2  2  1 10\n",
      "  6  1  9 10  2  1  5  3 13 10  1  5  2  6 13  9  3 10  1  5 10  5  3  7\n",
      "  9  5  3  9  1  5  2  6  1  5  7  6  1  5 10  7  5  3  2 10  3  1  6  3\n",
      "  6  1  5  9  2  3  1 10  2  5  9  1 13  5  1  9 10  9  7  3 10  5  6  1\n",
      "  1  2  3  9  6  3  7  9  5  9  5  2 10  5  6  9  7  5  9  6 10  5  1  6\n",
      "  3  6  5  1  2  9 10  9 10  1  2  6  1  5  3 10  2  6  3  2  1  9 10  2\n",
      "  9  3 10  1  9  3  2  9  1  2  5  9  2  1  5  6  5  3  6  9  3  1  2  7\n",
      "  6  1  7  2  6  1  7  9 10  3  7  3  1  5  3 10  2  6  5  7  1  3 10  1\n",
      "  6  5  2  1  3 10  1  2 10  1  5 10  7  3  1  3  5  6  3  1  1  3  5  1\n",
      " 11  2  8  3  1  8  7  2  8  9  3 10  2  1 10  3  7 10  8  2  1 11  7  1\n",
      "  8  7 10  9  1  2  7  2 11 10  3  9 10  8  3 10  1  7  9  3  2 10  1  3\n",
      " 11  3  8  7 11  8  2  3  3 10 10  3  1  9  2 10  5  6 10  3  1  2  6  9\n",
      "  7  1  2  9  5  2  3  5  6  7  1  5 10  7  1  6  2  5  3  6  2  1  5 10\n",
      "  1  9 10  6  1 10  6  2  3  5  1  3  2  1  3  5  3  2  1  5  5  6  2  5\n",
      "  5  2  7  6  5  2  1 10  9  7 10  5  9  6  1 10  2  5  1  7  2  9  5  9\n",
      "  5  7  1  3  5  7  1  9 10  1  2  6  7 10  3  6  5  3  6  1  6  7  1 10\n",
      " 14  5  1  2  7  3  9  1  1  7  5  1]\n",
      "Accuracy : 87.963%\n"
     ]
    }
   ],
   "source": [
    "#Decision tree algorithm\n",
    "from sklearn import tree\n",
    "model = tree.DecisionTreeClassifier(criterion='gini')\n",
    "outcome_var=['winner']\n",
    "predictor_var = ['team1', 'team2', 'venue', 'toss_winner','city','toss_decision']\n",
    "classification_model(model, df,predictor_var,outcome_var)"
   ]
  },
  {
   "cell_type": "markdown",
   "metadata": {},
   "source": [
    "#### Conclusion\n",
    "Accuracy score of Decision Tree is 87.963, but decision tree tends to overfit\n",
    "\n",
    "We can proceed to ensemble techniques"
   ]
  },
  {
   "cell_type": "markdown",
   "metadata": {},
   "source": [
    "#### Random Forest"
   ]
  },
  {
   "cell_type": "code",
   "execution_count": 35,
   "metadata": {},
   "outputs": [
    {
     "name": "stderr",
     "output_type": "stream",
     "text": [
      "C:\\Users\\parva\\Anaconda3\\lib\\site-packages\\ipykernel_launcher.py:9: DataConversionWarning: A column-vector y was passed when a 1d array was expected. Please change the shape of y to (n_samples,), for example using ravel().\n",
      "  if __name__ == '__main__':\n"
     ]
    },
    {
     "name": "stdout",
     "output_type": "stream",
     "text": [
      "[10 11  2  9  3 10  1  9  7  1  2  1  8  2  9  1  3  2 10  3 10  1  8  1\n",
      " 11  9  3 11  2  8  2 10 11  1  9 10  1 11  7 11  7  9 11  1  2  8 10  9\n",
      "  7  9  7 10  1 11  3 11  2  1  1  3  5  7  1  2  6  7  1  6  9 14  5  4\n",
      "  9  5  1  3  9  6  5  3  2  1  6  3  4  1  5  2  6  1  5  2  6  9  2  1\n",
      "  9  7  1  9  3  1  5  7  6  9  5  9  1  5  3  2  6  5  6  5  6  1  3  7\n",
      "  4  5  2  4  7  6  3  4  7  9  4  1  6  3  9  7  5  1  3  6  5  9  3  5\n",
      "  6  7  4  6  5  7  9  5  1  7  4  3  1  7  3  6  9  5  4  9  7  2  3  2\n",
      "  5  7  3  4  3  4  2  1  7  2  4  7  3  2  1  3  5  4  6  3  4  9  1  3\n",
      "  6  1  6  2  3  6  4  2  1  5  7  2  3  5  1  9  7  6  1  6  2  3  9  4\n",
      "  3  9  6  4  1  5  6  5  4  1  2  5  4  1  1  5  3  5  2  6  3  1 13  2\n",
      "  6  1  9 13  4  2 12  5  9  7  2 12  4  1 12  9  5  3  9  1  6  5  3  5\n",
      "  4  2  6  3  7  2  6  5  1 12  2  5  1 12  7  3  2  1  3 13  6 13  9  3\n",
      "  5  9  3  4  9 12  4  9  5  2  6  4 14  3  1  5  1  3  5  1  7 13  6  7\n",
      "  5  2  9  1  3  7  1  5  9  2  4 13  2  6  1  6  3  2  7  5  3  5 13  1\n",
      "  2  6  7  1  4  7  9  2  7  1  2  4  7  3  1  5  2  6  1  3  2  6  9  1\n",
      "  5  3  1  5  6  9  1  5  7  1  9  3  4  9  2  4  1  2  5  5  2  2  1 10\n",
      "  7  1  9 10  2  1  5  3 13 10  1  5  2  6 13  9  3 10  1  5 10  5  3  7\n",
      "  9  5  3  9  1  5  2  6  1  5  7  6  1 13 10  7  5  3  2 10  3  1  6  3\n",
      "  6  1  5  9  2  3  1 10  2  6  9  1 13  5  1  9 10  9  7  3 10  5  6  1\n",
      "  1  2  3  9  6  3  7  9  5  9  5  2 10  5  6  9  7  5  9  6 10  5  1  6\n",
      "  3  6  5  1  2  9 10  9 10  5  2  6  1  5  7 10  2  7  3  2  1  9 10  2\n",
      "  9  3 10  1  9  3  2  9  1  2  5  9  2  1  5  6  5  3  6  9  3  1  2  7\n",
      "  6  1  7  2  6  1  7  9 10  3  7  3  1  5  3 10  2 14  5  7  1  3 10  9\n",
      "  6  5  2  1  3 10  1  2 10  1  5 10  7  3  1  3  5  6  3  1  1  3  5  1\n",
      " 11  2  8  3  1  8  7  2  8  9  7 10  9  1 10  3  7 10  8  2  1 11  7  1\n",
      "  8  7 10  9  1  2  7  2 11 10  3  9 10  8  3 10  1  7  9  8  2 10  1  3\n",
      " 11  3  8  7 11  8  2  3  3 10 10  3  5  9  2 10  5  6 10  3  1  2  6  9\n",
      "  7  1  2  9  5  2  3  5  6  7  1  5 10  7  1  6  2  5  3  6  2  1  5 10\n",
      "  1  9 10  6  1 10  6  2  3  5  1  3  2  1  3  5  6  2  1  5  5  6  2  5\n",
      "  5  2  7  6  5  2  1 10  9  7 10  5  9  6  5 10  2  5  1  7  2  9  5  9\n",
      "  5  7  1  3  5  7  1  9 10  1  2  6  7 10  3  6  5  3  6  1  6  7  1 10\n",
      " 14  5  1  2  7  3  9  1  1  7  5  1]\n",
      "Accuracy : 87.963%\n"
     ]
    }
   ],
   "source": [
    "#Random forest classifier\n",
    "model = RandomForestClassifier(n_estimators=100)\n",
    "outcome_var = ['winner']\n",
    "predictor_var = ['team1', 'team2', 'venue', 'toss_winner','city','toss_decision']\n",
    "classification_model(model, df,predictor_var,outcome_var)"
   ]
  },
  {
   "cell_type": "markdown",
   "metadata": {},
   "source": [
    "Random forest tends to overfit ,hence we will tune its parameter"
   ]
  },
  {
   "cell_type": "markdown",
   "metadata": {},
   "source": [
    "#### Hyper-parameter Tuning of Random forest"
   ]
  },
  {
   "cell_type": "code",
   "execution_count": 36,
   "metadata": {},
   "outputs": [],
   "source": [
    "from sklearn.model_selection import RandomizedSearchCV"
   ]
  },
  {
   "cell_type": "code",
   "execution_count": 37,
   "metadata": {},
   "outputs": [],
   "source": [
    "# Number of trees in random forest\n",
    "n_estimators = [int(x) for x in np.linspace(start = 200, stop = 2000, num = 10)]\n",
    "\n",
    "# Number of features to consider at every split\n",
    "max_features = ['auto', 'sqrt']\n",
    "\n",
    "# Maximum number of levels in tree\n",
    "max_depth = [int(x) for x in np.linspace(1, 110, num = 11)]\n",
    "#max_depth.append(None)\n",
    "\n",
    "# Minimum number of samples required to split a node\n",
    "min_samples_split = [2, 5, 10]\n",
    "\n",
    "# Minimum number of samples required at each leaf node\n",
    "min_samples_leaf = [1, 2, 4]\n",
    "\n",
    "# Method of selecting samples for training each tree\n",
    "bootstrap = [True, False]"
   ]
  },
  {
   "cell_type": "code",
   "execution_count": 38,
   "metadata": {},
   "outputs": [],
   "source": [
    "#Create the random grid\n",
    "param_grid = {'n_estimators': n_estimators,\n",
    "               'max_features': max_features,\n",
    "               'max_depth': max_depth,\n",
    "               'min_samples_split': min_samples_split,\n",
    "               'min_samples_leaf': min_samples_leaf,\n",
    "               'bootstrap': bootstrap}"
   ]
  },
  {
   "cell_type": "code",
   "execution_count": 39,
   "metadata": {},
   "outputs": [],
   "source": [
    "X=df.drop(['winner'],axis=1)\n",
    "y=df['winner']"
   ]
  },
  {
   "cell_type": "code",
   "execution_count": 40,
   "metadata": {},
   "outputs": [
    {
     "name": "stdout",
     "output_type": "stream",
     "text": [
      "Fitting 3 folds for each of 100 candidates, totalling 300 fits\n"
     ]
    },
    {
     "name": "stderr",
     "output_type": "stream",
     "text": [
      "[Parallel(n_jobs=-1)]: Using backend LokyBackend with 8 concurrent workers.\n",
      "[Parallel(n_jobs=-1)]: Done  25 tasks      | elapsed:   21.2s\n",
      "[Parallel(n_jobs=-1)]: Done 146 tasks      | elapsed:  1.3min\n",
      "[Parallel(n_jobs=-1)]: Done 300 out of 300 | elapsed:  2.5min finished\n"
     ]
    },
    {
     "data": {
      "text/plain": [
       "RandomizedSearchCV(cv=3, estimator=RandomForestClassifier(), n_iter=100,\n",
       "                   n_jobs=-1,\n",
       "                   param_distributions={'bootstrap': [True, False],\n",
       "                                        'max_depth': [1, 11, 22, 33, 44, 55, 66,\n",
       "                                                      77, 88, 99, 110],\n",
       "                                        'max_features': ['auto', 'sqrt'],\n",
       "                                        'min_samples_leaf': [1, 2, 4],\n",
       "                                        'min_samples_split': [2, 5, 10],\n",
       "                                        'n_estimators': [200, 400, 600, 800,\n",
       "                                                         1000, 1200, 1400, 1600,\n",
       "                                                         1800, 2000]},\n",
       "                   random_state=10, verbose=2)"
      ]
     },
     "execution_count": 40,
     "metadata": {},
     "output_type": "execute_result"
    }
   ],
   "source": [
    "# Use the random grid to search for best hyperparameters\n",
    "\n",
    "# First create the base model to tune\n",
    "rf = RandomForestClassifier()\n",
    "\n",
    "# Random search of parameters, using 3 fold cross validation, \n",
    "# search across 100 different combinations, and use all available cores\n",
    "rf_random = RandomizedSearchCV(estimator = rf, param_distributions = param_grid, \n",
    "                               n_iter = 100, cv = 3, verbose=2, random_state = 10, n_jobs = -1)\n",
    "\n",
    "# Fit the random search model\n",
    "rf_random.fit(X,y)"
   ]
  },
  {
   "cell_type": "code",
   "execution_count": 41,
   "metadata": {},
   "outputs": [
    {
     "data": {
      "text/plain": [
       "{'n_estimators': 200,\n",
       " 'min_samples_split': 10,\n",
       " 'min_samples_leaf': 4,\n",
       " 'max_features': 'auto',\n",
       " 'max_depth': 22,\n",
       " 'bootstrap': False}"
      ]
     },
     "execution_count": 41,
     "metadata": {},
     "output_type": "execute_result"
    }
   ],
   "source": [
    "rf_random.best_params_"
   ]
  },
  {
   "cell_type": "code",
   "execution_count": 42,
   "metadata": {},
   "outputs": [
    {
     "name": "stderr",
     "output_type": "stream",
     "text": [
      "C:\\Users\\parva\\Anaconda3\\lib\\site-packages\\ipykernel_launcher.py:9: DataConversionWarning: A column-vector y was passed when a 1d array was expected. Please change the shape of y to (n_samples,), for example using ravel().\n",
      "  if __name__ == '__main__':\n"
     ]
    },
    {
     "name": "stdout",
     "output_type": "stream",
     "text": [
      "[10  1  2  9  3 10  1  9 11  1  2  1  8  2  7  1  3  2 10  3 10  1  8  1\n",
      " 11  9  3  1  2  3  2  9  3  1  9  2  1 11  7  2  7  3 10  1  2  8  1  9\n",
      "  7  1  7 10  1 11  3  1  2  1  1  3  5  7  1  2  6  7  1  6  9  6  5  1\n",
      "  9  5  1  3  9  6  5  4  2  1  6  3  4  1  5  2  6  1  5  2  6  9  2  1\n",
      "  9  7  1  7  3  1  2  3  6  1  5  9  1  5  3  2  6  5  6  5  6  1  3  7\n",
      "  2  5  2  4  5  2  9  4  7  9  4  1  6  2  1  7  6  1  9  6  5  2  1  5\n",
      "  9  7  4  6  5  1  9  5  1  7  4  3  1  4  5  1  9  1  4  9  7  2  3  2\n",
      "  5  1  3  4  3  3  2  1  7  2  5  7  3  2  1  3  5  9  6  1  4  5  1  3\n",
      "  9  1  6  2  3  6  1  2  1  5  7  2  3  5  1  2  7  6  5  6  2  3  1  5\n",
      "  3  7  6  3  1  5  6  5  4  1  2  5  4  1  1  5  3  1  5  6  3  7 13  2\n",
      "  6  1  9 13  4  2  1  5  9  7  2 12  4  1  2  9  1  3  9  1  6  5  3  5\n",
      " 12  7  6  3  7  2  6  5  1 10  2  5  1  2  7  3  2  1  3 10  6 10  9  3\n",
      "  5  9  3  1  7 12  4  9  5  2  1  9  7  3  1  5  1  1  5  1  7  1  6  3\n",
      "  5  2 13  1  3  7  1  5  9  2  4  5  2  3  1  6  3  2  7  5  3  5  7  1\n",
      "  2  6  7  1  4  7  5  2  7  1  5  4  6  3  1  5  2  9  1  3  2  6  9  1\n",
      "  5  3  1  5  6  9  1  5  7  1  9  7  6  7  2  4  1  2  1  5  5  2  1 10\n",
      "  7  1 13 10  2  1  5  3 13 10  1  5  2  6  5  9  3 10  1  5 10  2  3  1\n",
      "  9  5  3  7  1  5  2  6  1  2  7  6  1  5  1  2  5  3  2 10  3  1  6  3\n",
      "  6  1 10  9  2  7  1  9  2  6  9  1  2  5  1  9 10  1  7  3 10  5 10  1\n",
      "  1  1  3  5  6  1  2  9  5 10  5  3 10  1  6  2  1  5  9  6  1  5  1  6\n",
      "  3  6  5  1  2  5  6  3 10  1  2  3  1  5  3 10  2  7  5  2  1  9 10  2\n",
      "  9  3 10  1  9  3  2  9  1  2  1  5  2  1  5  9  5  3  6  1  3  1  2  7\n",
      "  6  1  7  2  6  1  2  9  2  3  7  3  1  5  3  9  2  6  2  7  1  3  5  1\n",
      "  7  5  2  1  3  6  5  2 10  1  5 10  7  3  1  3  5  2  3  1  1  3  5  1\n",
      "  1  2  8  3  1  8  7  2  1  9  3 10  9  1 10  3  7 10  3  2  1 10  7  1\n",
      "  8  2 10  9  1  2  7  2 11 10  3  7  1  8  9 10  1  7  1  3  2 10  1  3\n",
      " 11  3  8  7 11  1  2  3  3  2 10  3  1  9  2 10  5  6 10  3  1  2  3  5\n",
      "  7  1  2  9  5  2  3 10  6  7  1  3 10  2  1  6  2  5  1  6  2  1  5 10\n",
      "  1  9 10  6  1 10  6  9  3  5  1  3  2  1  3  5  6  2  7  5  5  6  2  5\n",
      "  5  2  1  6  5  2  1 10  1  7 10  5  9  6  1 10  2  5 10  7  2  9  5  1\n",
      "  5  7  1  3  5 10  1  9 10  1  2  6  7 10  5  6  5  3  6  1  6  7  1 10\n",
      "  6  5  1  2  7  3  9  1  5  7  5  1]\n",
      "Accuracy : 71.296%\n"
     ]
    }
   ],
   "source": [
    "#Random forest classifier\n",
    "model = RandomForestClassifier(**{'n_estimators': 1200,\n",
    " 'min_samples_split': 2,\n",
    " 'min_samples_leaf': 4,\n",
    " 'max_features': 'sqrt',\n",
    " 'max_depth': 22,\n",
    " 'bootstrap': True})\n",
    "outcome_var = ['winner']\n",
    "predictor_var = ['team1', 'team2', 'venue', 'toss_winner','city','toss_decision']\n",
    "classification_model(model, df,predictor_var,outcome_var)"
   ]
  },
  {
   "cell_type": "markdown",
   "metadata": {},
   "source": [
    "#### Conclusion\n",
    "Accuracy score of of random forest after hyperparameter tuning is 71.693%\n",
    "\n",
    "Hnece can be used for predictions"
   ]
  },
  {
   "cell_type": "markdown",
   "metadata": {},
   "source": [
    "#### Gradient Boosting"
   ]
  },
  {
   "cell_type": "code",
   "execution_count": 43,
   "metadata": {},
   "outputs": [
    {
     "name": "stderr",
     "output_type": "stream",
     "text": [
      "C:\\Users\\parva\\Anaconda3\\lib\\site-packages\\sklearn\\utils\\validation.py:72: DataConversionWarning: A column-vector y was passed when a 1d array was expected. Please change the shape of y to (n_samples, ), for example using ravel().\n",
      "  return f(**kwargs)\n"
     ]
    },
    {
     "name": "stdout",
     "output_type": "stream",
     "text": [
      "[10 11  2  9  3 10  1  9  7 10  2  1  8  2  9  1 11  2 10  3 10  1  8  1\n",
      " 11  9  3 11  2  8  2 10 11  1  9 10  1 11  7 11  7  9 11  1  2  8 10  9\n",
      "  7  9  7 10  1 11  3 11  2  1  1  3  5  7  1  2  6  7  5  6  9 14  5  1\n",
      "  9  5  1  3  9  6  5  3  2  1  6  3  4  1  5  2  6  1  5  2  6  9  2  1\n",
      "  9  7  1  9  3  1  5  7  6  9  5  9  1  5  4  2  6  5  6  5  6  1  3  7\n",
      "  4  5  2  4  7  6  9  4  7  9  4  1  6  3  9  7  5  1  9  6  5  9  3  5\n",
      "  6  7  4  6  5  7  9  5  1  7  4  3  1  7  3  6  9  5  4  9  7  2  3  2\n",
      "  5  7  3  4  3  4  2  1  7  2  4  6  3  2  1  3  5  4  6  3  4  9  1  3\n",
      "  6  1  6  2  3  6  1  2  1  5  7  2  3  5  1  9  7  6  1  6  2  4  1  4\n",
      "  3  9  6  4  1  5  6  5  4  1  2  5  4  1  1  5  3  5  5  6  3  7 13  2\n",
      "  6  1  5 13  4  2 12  5  9  7  2 12  4  1 12  9  1  3  9  1  6  5  3  5\n",
      "  4  7  6  3  7  2  6  5  1 12  2  5  1 12  7  3  2  1  3 13  6 13  9  3\n",
      "  5  9  3  4  9 12  4  9  5  2  6  4 14  3  1  5  1  3  5  5  2 13  6  7\n",
      "  5  2 13  1  3  5  1  5  9  2  4 13  2  6  1  6  3  2  7  5  9  5 13  1\n",
      "  2  6 13  1  4  7  9  2  7  1  5  4  7  3  1  5  2  6  1  3  2  6  9  1\n",
      "  5  3  1  5  6  9  1  5  7  1  9  3  4  9  2  4  6  2  5  5  5  2  1 10\n",
      "  7  1 13 10  2  1  5  3 13 10  1  5  2  6 13  9  3 10  6  5 10  5  3  7\n",
      "  9  5  3  9  1  5  2  6  1  5  7  6  1 13 10  7  5  3  2 10  3  1  6  3\n",
      "  6  1  5  9  2  3  1 10  2  6  9  1 13  5  1  9 10  9 13  3 10  5  6  1\n",
      "  1  2  3  9  6  3  7  9  5  9  5  2 10  5  6  9  7  5  9  6 10  5  1  6\n",
      "  3  6  5  1  2  9 10  9 10  1  2  6  1  5  7 10  2  6  3  2  6  9 10  2\n",
      "  9  3 10  1  9  3  2  9  1  2  5  9  2  1  5  6  5  3  6  9  3  6  2  7\n",
      "  6  1  7  2  6  1  7  9 10  3  7  3  1  5  3 10  2 14  5  7  1  3 10  1\n",
      "  6  5  2  1  3 10  1  2 10  1  5 10  7  9  1  3  5  6  3  1  1  3  5  1\n",
      " 11  2  8  3  1  8  7  2  8  9  7 10  9  1 10  3  7 10  8  2  1 11  7  1\n",
      "  8  7 10  9  1  2  7  2 11 10 11  7 10  8  3 10  1  7  9  8  2 10  1  3\n",
      " 11  3  8  7 11  8  2  3  3 10 10  3  1  9  2 10  5  7 10  3  1  2  3  9\n",
      "  2  1  2  9  5  2  3  5  6  7 10  5 10  7  1  6  2  5  3  6  2  1  5 10\n",
      "  1  9 10  6  1 10  6  2  3  5  1  3  2  1  3  5  6  2  7  5  5  6  2  5\n",
      "  5  2  7  6  5  2  1 10  9  7 10  5  9  6  1 10  2  5  1  7  2  9  5  9\n",
      "  5  2  1  3  5  7  1  9 10  1  2  6  7 10  3  7  5  3  6  1  6  7  1 10\n",
      " 14  5  1  2  7  3  9  1  1  7  5  1]\n",
      "Accuracy : 87.037%\n"
     ]
    }
   ],
   "source": [
    "#Gradient boost algorithm\n",
    "from sklearn.ensemble import GradientBoostingClassifier\n",
    "model= GradientBoostingClassifier()\n",
    "classification_model(model, df,predictor_var,outcome_var)"
   ]
  },
  {
   "cell_type": "markdown",
   "metadata": {},
   "source": [
    "Gradient Boosting algorithm tends to overfit , hence we will tune its parameter for better results"
   ]
  },
  {
   "cell_type": "markdown",
   "metadata": {},
   "source": [
    "#### Hyper-parameter Tuning"
   ]
  },
  {
   "cell_type": "code",
   "execution_count": 44,
   "metadata": {},
   "outputs": [],
   "source": [
    "from sklearn.model_selection import RandomizedSearchCV"
   ]
  },
  {
   "cell_type": "code",
   "execution_count": 45,
   "metadata": {},
   "outputs": [],
   "source": [
    "param_dist = {'max_features' : ['log2',1.0],\n",
    "              'max_depth' : [3, 5, 7, 10],\n",
    "              'min_samples_leaf' : [2, 3, 5, 10],\n",
    "              'n_estimators': [50, 100,200,300,500,1000],\n",
    "              'learning_rate' : [0.0001,0.001,0.01,0.05,0.1,0.3],\n",
    "              }"
   ]
  },
  {
   "cell_type": "code",
   "execution_count": 46,
   "metadata": {},
   "outputs": [],
   "source": [
    "pre_gb_model = RandomizedSearchCV(GradientBoostingClassifier(warm_start=True), \n",
    "                                  param_distributions = param_dist,\n",
    "                                  cv=3, n_iter = 30, n_jobs=-1)"
   ]
  },
  {
   "cell_type": "code",
   "execution_count": 47,
   "metadata": {},
   "outputs": [],
   "source": [
    "X=df.drop(['winner'],axis=1)\n",
    "y=df['winner']"
   ]
  },
  {
   "cell_type": "code",
   "execution_count": 48,
   "metadata": {},
   "outputs": [
    {
     "data": {
      "text/plain": [
       "RandomizedSearchCV(cv=3, estimator=GradientBoostingClassifier(warm_start=True),\n",
       "                   n_iter=30, n_jobs=-1,\n",
       "                   param_distributions={'learning_rate': [0.0001, 0.001, 0.01,\n",
       "                                                          0.05, 0.1, 0.3],\n",
       "                                        'max_depth': [3, 5, 7, 10],\n",
       "                                        'max_features': ['log2', 1.0],\n",
       "                                        'min_samples_leaf': [2, 3, 5, 10],\n",
       "                                        'n_estimators': [50, 100, 200, 300, 500,\n",
       "                                                         1000]})"
      ]
     },
     "execution_count": 48,
     "metadata": {},
     "output_type": "execute_result"
    }
   ],
   "source": [
    "pre_gb_model.fit(X,y)"
   ]
  },
  {
   "cell_type": "code",
   "execution_count": 49,
   "metadata": {},
   "outputs": [
    {
     "data": {
      "text/plain": [
       "{'n_estimators': 200,\n",
       " 'min_samples_leaf': 5,\n",
       " 'max_features': 'log2',\n",
       " 'max_depth': 7,\n",
       " 'learning_rate': 0.01}"
      ]
     },
     "execution_count": 49,
     "metadata": {},
     "output_type": "execute_result"
    }
   ],
   "source": [
    "pre_gb_model.best_params_"
   ]
  },
  {
   "cell_type": "code",
   "execution_count": 64,
   "metadata": {},
   "outputs": [
    {
     "name": "stderr",
     "output_type": "stream",
     "text": [
      "C:\\Users\\parva\\Anaconda3\\lib\\site-packages\\sklearn\\utils\\validation.py:72: DataConversionWarning: A column-vector y was passed when a 1d array was expected. Please change the shape of y to (n_samples, ), for example using ravel().\n",
      "  return f(**kwargs)\n"
     ]
    },
    {
     "name": "stdout",
     "output_type": "stream",
     "text": [
      "[10 11  2  9  3 10  1  9  7 10  2  1  8  2  9  1 11  2 10  3 10  1  8  1\n",
      " 11  9  3 11  2  8  2 10 11  1  9 10  1 11  7 11  7  9 11  1  2  8 10  9\n",
      "  7  9  7 10  1 11  3 11  2  1  1  3  5  7  1  2  6  7  5  6  9 14  5  1\n",
      "  9  5  1  3  9  6  5  3  2  1  6  3  4  1  5  2  6  1  5  2  6  9  2  1\n",
      "  9  7  1  9  3  1  5  7  6  9  5  9  1  5  4  2  6  5  6  5  6  1  3  7\n",
      "  4  5  2  4  7  6  9  4  7  9  4  1  6  3  9  7  5  1  9  6  5  9  3  5\n",
      "  6  7  4  6  5  7  9  5  1  7  4  3  1  7  3  6  9  5  4  9  7  2  3  2\n",
      "  5  7  3  4  3  4  2  1  7  2  4  7  3  2  1  3  5  4  6  1  4  9  1  3\n",
      "  6  1  6  9  3  6  1  2  1  5  7  2  3  5  1  9  7  6  1  6  2  4  1  4\n",
      "  3  9  6  4  1  5  6  5  4  1  2  5  4  1  1  5  3  5  2  6  3  7 13  2\n",
      "  6  1  9 13  4  2 12  5  9  7  2 12  4  1 12  9  5  3  9  1  6  5  3  5\n",
      "  4  7  6  3  7  2  6  5  1 12  2  5  1 12  7  3  2  1  3 13  6 13  9  3\n",
      "  5  9  3  4  9 12  4  9  5  2  6  4 14  3  1  5  1  3  5  5  7 13  6  7\n",
      "  5  2  9  1  3  7  1  5  9  2  4 13  2  6  1  6  3  2  7  5  9  5 13  1\n",
      "  2  6 13  1  4  7  9  2  7  1  2  4  7  3  1  5  2  6  1  3  2  6  9  1\n",
      "  5  3  1  5  6  9  1  5  7  1  9  3  4  9  2  4  6  2  5  5  2  2  1 10\n",
      "  7  1  9 10  2  1  5  3 13 10  1  5  2  6 13  9  3 10  6  5 10  5  3  7\n",
      "  9  5  3  9  1  5  2  6  1  5  7  6  1 13 10  7  5  3  2 10  3  1  6  3\n",
      "  6  1  5  9  2  3  1 10  2  6  9  1 13  5  1  9 10  9 13  3 10  5  6  1\n",
      "  1  2  3  9  6  3  7  9  5  9  5  2 10  5  6  9  7  5  9  6 10  5  1  6\n",
      "  3  6  5  1  2  9 10  9 10  5  2  6  1  5  7 10  2  7  3  2  6  9 10  2\n",
      "  9  3 10  1  9  3  2  9  1  2  5  9  2  1  5  6  5  3  6  9  3  6  2  7\n",
      "  6  1  7  2  6  1  7  9 10  3  7  3  1  5  3 10  2 14  5  7  1  3 10  1\n",
      "  6  5  2  1  3 10  1  2 10  1  5 10  7  9  1  3  5  6  3  1  1  3  5  1\n",
      " 11  2  8  3  1  8  7  2  8  9  7 10  9  1 10  3  7 10  8  2  1 11  7  1\n",
      "  8  7 10  9  1  2  7  2 11 10 11  9 10  8  3 10  1  7  9  8  2 10  1  3\n",
      " 11  3  8  7 11  8  2  3  3 10 10  3  5  9  2 10  5  6 10  3  1  2  3  9\n",
      "  7  1  2  9  5  2  3  5  6  7 10  5 10  7  1  6  2  5  3  6  2  1  5 10\n",
      "  1  9 10  6  1 10  6  2  3  5  1  3  2  1  3  5  6  2  7  5  5  6  2  5\n",
      "  5  2  7  6  5  2  1 10  9  7 10  5  9  6  5 10  2  5 10  7  2  9  5  9\n",
      "  5  7  1  3  5  7  1  9 10  1  2  6  7 10  3  6  5  3  6  1  6  7  1 10\n",
      " 14  5  1  2  7  3  9  1  1  7  5  1]\n",
      "Accuracy : 87.302%\n"
     ]
    }
   ],
   "source": [
    "model= GradientBoostingClassifier(**{'n_estimators': 200,\n",
    " 'min_samples_leaf': 5,\n",
    " 'max_features': 'log2',\n",
    " 'max_depth': 7,\n",
    " 'learning_rate': 0.01})\n",
    "classification_model(model, df,predictor_var,outcome_var)"
   ]
  },
  {
   "cell_type": "markdown",
   "metadata": {},
   "source": [
    "#### Conclusion\n",
    "Accuracy of Gradeint boosting is 87.302% after hyper-paramter tuning .\n",
    "which is maximum of all the algorithm\n",
    "Hence we will use Gradient Boosting as our final algorithm"
   ]
  },
  {
   "cell_type": "markdown",
   "metadata": {},
   "source": [
    "#### Feature importance"
   ]
  },
  {
   "cell_type": "code",
   "execution_count": 77,
   "metadata": {},
   "outputs": [
    {
     "data": {
      "image/png": "[encoded data removed]",
      "text/plain": [
       "<Figure size 432x288 with 1 Axes>"
      ]
     },
     "metadata": {
      "needs_background": "light"
     },
     "output_type": "display_data"
    }
   ],
   "source": [
    "feat_importances = pd.Series(model.feature_importances_, index=predictor_var)\n",
    "feat_importances.nlargest(6).plot(kind='barh')\n",
    "plt.show()"
   ]
  },
  {
   "cell_type": "markdown",
   "metadata": {},
   "source": [
    "<a id=\"t7.\"></a>\n",
    "# 7. Model Testing"
   ]
  },
  {
   "cell_type": "code",
   "execution_count": 66,
   "metadata": {
    "scrolled": true
   },
   "outputs": [
    {
     "data": {
      "text/html": [
       "<div>\n",
       "<style scoped>\n",
       "    .dataframe tbody tr th:only-of-type {\n",
       "        vertical-align: middle;\n",
       "    }\n",
       "\n",
       "    .dataframe tbody tr th {\n",
       "        vertical-align: top;\n",
       "    }\n",
       "\n",
       "    .dataframe thead th {\n",
       "        text-align: right;\n",
       "    }\n",
       "</style>\n",
       "<table border=\"1\" class=\"dataframe\">\n",
       "  <thead>\n",
       "    <tr style=\"text-align: right;\">\n",
       "      <th></th>\n",
       "      <th>team1</th>\n",
       "      <th>team2</th>\n",
       "      <th>venue</th>\n",
       "      <th>toss_winner</th>\n",
       "      <th>city</th>\n",
       "      <th>toss_decision</th>\n",
       "      <th>date</th>\n",
       "      <th>winner</th>\n",
       "    </tr>\n",
       "  </thead>\n",
       "  <tbody>\n",
       "    <tr>\n",
       "      <td>0</td>\n",
       "      <td>KXIP</td>\n",
       "      <td>MI</td>\n",
       "      <td>3</td>\n",
       "      <td>MI</td>\n",
       "      <td>3</td>\n",
       "      <td>0</td>\n",
       "      <td>11-Apr</td>\n",
       "      <td>MI</td>\n",
       "    </tr>\n",
       "    <tr>\n",
       "      <td>1</td>\n",
       "      <td>SRH</td>\n",
       "      <td>RR</td>\n",
       "      <td>5</td>\n",
       "      <td>RR</td>\n",
       "      <td>5</td>\n",
       "      <td>0</td>\n",
       "      <td>27-Apr</td>\n",
       "      <td>RR</td>\n",
       "    </tr>\n",
       "    <tr>\n",
       "      <td>2</td>\n",
       "      <td>KKR</td>\n",
       "      <td>MI</td>\n",
       "      <td>3</td>\n",
       "      <td>MI</td>\n",
       "      <td>3</td>\n",
       "      <td>0</td>\n",
       "      <td>05-May</td>\n",
       "      <td>MI</td>\n",
       "    </tr>\n",
       "    <tr>\n",
       "      <td>3</td>\n",
       "      <td>CSK</td>\n",
       "      <td>MI</td>\n",
       "      <td>7</td>\n",
       "      <td>CSK</td>\n",
       "      <td>7</td>\n",
       "      <td>1</td>\n",
       "      <td>07-May</td>\n",
       "      <td>MI</td>\n",
       "    </tr>\n",
       "    <tr>\n",
       "      <td>4</td>\n",
       "      <td>DC</td>\n",
       "      <td>CSK</td>\n",
       "      <td>24</td>\n",
       "      <td>CSK</td>\n",
       "      <td>22</td>\n",
       "      <td>1</td>\n",
       "      <td>10-May</td>\n",
       "      <td>CSK</td>\n",
       "    </tr>\n",
       "  </tbody>\n",
       "</table>\n",
       "</div>"
      ],
      "text/plain": [
       "  team1 team2  venue toss_winner  city  toss_decision    date winner\n",
       "0  KXIP    MI      3          MI     3              0  11-Apr     MI\n",
       "1   SRH    RR      5          RR     5              0  27-Apr     RR\n",
       "2   KKR    MI      3          MI     3              0  05-May     MI\n",
       "3   CSK    MI      7         CSK     7              1  07-May     MI\n",
       "4    DC   CSK     24         CSK    22              1  10-May    CSK"
      ]
     },
     "execution_count": 66,
     "metadata": {},
     "output_type": "execute_result"
    }
   ],
   "source": [
    "test=pd.read_csv(\"test_IPL.csv\")\n",
    "test.head()"
   ]
  },
  {
   "cell_type": "code",
   "execution_count": 67,
   "metadata": {},
   "outputs": [],
   "source": [
    "test = test.drop([\"date\",\"winner\"], axis=1,inplace=False)"
   ]
  },
  {
   "cell_type": "code",
   "execution_count": 68,
   "metadata": {},
   "outputs": [
    {
     "data": {
      "text/html": [
       "<div>\n",
       "<style scoped>\n",
       "    .dataframe tbody tr th:only-of-type {\n",
       "        vertical-align: middle;\n",
       "    }\n",
       "\n",
       "    .dataframe tbody tr th {\n",
       "        vertical-align: top;\n",
       "    }\n",
       "\n",
       "    .dataframe thead th {\n",
       "        text-align: right;\n",
       "    }\n",
       "</style>\n",
       "<table border=\"1\" class=\"dataframe\">\n",
       "  <thead>\n",
       "    <tr style=\"text-align: right;\">\n",
       "      <th></th>\n",
       "      <th>team1</th>\n",
       "      <th>team2</th>\n",
       "      <th>venue</th>\n",
       "      <th>toss_winner</th>\n",
       "      <th>city</th>\n",
       "      <th>toss_decision</th>\n",
       "    </tr>\n",
       "  </thead>\n",
       "  <tbody>\n",
       "    <tr>\n",
       "      <td>0</td>\n",
       "      <td>9</td>\n",
       "      <td>1</td>\n",
       "      <td>3</td>\n",
       "      <td>1</td>\n",
       "      <td>3</td>\n",
       "      <td>0</td>\n",
       "    </tr>\n",
       "    <tr>\n",
       "      <td>1</td>\n",
       "      <td>10</td>\n",
       "      <td>6</td>\n",
       "      <td>5</td>\n",
       "      <td>6</td>\n",
       "      <td>5</td>\n",
       "      <td>0</td>\n",
       "    </tr>\n",
       "  </tbody>\n",
       "</table>\n",
       "</div>"
      ],
      "text/plain": [
       "  team1 team2  venue toss_winner  city  toss_decision\n",
       "0     9     1      3           1     3              0\n",
       "1    10     6      5           6     5              0"
      ]
     },
     "execution_count": 68,
     "metadata": {},
     "output_type": "execute_result"
    }
   ],
   "source": [
    "test.replace(encode, inplace=True)\n",
    "test.head(2)"
   ]
  },
  {
   "cell_type": "code",
   "execution_count": 69,
   "metadata": {},
   "outputs": [],
   "source": [
    "out = model.predict(test)"
   ]
  },
  {
   "cell_type": "code",
   "execution_count": 70,
   "metadata": {},
   "outputs": [
    {
     "data": {
      "text/plain": [
       "array([1, 6, 1, 5, 5], dtype=int64)"
      ]
     },
     "execution_count": 70,
     "metadata": {},
     "output_type": "execute_result"
    }
   ],
   "source": [
    "out"
   ]
  },
  {
   "cell_type": "code",
   "execution_count": 71,
   "metadata": {},
   "outputs": [
    {
     "name": "stdout",
     "output_type": "stream",
     "text": [
      "1\n",
      "MI\n"
     ]
    }
   ],
   "source": [
    "\n",
    "dicVal = encode['winner']\n",
    "print(dicVal['MI']) #key value\n",
    "print(list(dicVal.keys())[list(dicVal.values()).index(1)]) #find key by value search"
   ]
  },
  {
   "cell_type": "code",
   "execution_count": 72,
   "metadata": {},
   "outputs": [],
   "source": [
    "predicted_winner=[]\n",
    "for i in out:\n",
    "    #print(list(dicVal.keys())[list(dicVal.values()).index(i)])\n",
    "    predicted_winner.append(list(dicVal.keys())[list(dicVal.values()).index(i)])"
   ]
  },
  {
   "cell_type": "code",
   "execution_count": 73,
   "metadata": {},
   "outputs": [
    {
     "name": "stdout",
     "output_type": "stream",
     "text": [
      "4\n",
      "Accuracy of our prediction of recent IPL is  0.8\n"
     ]
    }
   ],
   "source": [
    "ipl=pd.read_csv('test_IPL.csv')\n",
    "ctr=0\n",
    "k=0\n",
    "total=len(ipl['winner'])\n",
    "for i in ipl['winner']:\n",
    "    if i==predicted_winner[k]:\n",
    "        ctr=ctr+1\n",
    "    k=k+1  \n",
    "print(ctr)\n",
    "print(\"Accuracy of our prediction of recent IPL is \", ctr/total)"
   ]
  },
  {
   "cell_type": "code",
   "execution_count": 74,
   "metadata": {},
   "outputs": [
    {
     "data": {
      "text/plain": [
       "['MI', 'RR', 'MI', 'CSK', 'CSK']"
      ]
     },
     "execution_count": 74,
     "metadata": {},
     "output_type": "execute_result"
    }
   ],
   "source": [
    "predicted_winner"
   ]
  },
  {
   "cell_type": "code",
   "execution_count": 75,
   "metadata": {},
   "outputs": [],
   "source": [
    "sub = pd.DataFrame()\n",
    "sub['team1'] = ipl['team1']\n",
    "sub['team2'] = ipl['team2']\n",
    "sub['venue'] = ipl['venue']\n",
    "sub['toss_winner'] =ipl['toss_winner']\n",
    "sub['city'] = ipl['city']\n",
    "sub['toss_decision'] = ipl['toss_decision']\n",
    "sub['date of match']=ipl['date']\n",
    "sub['actual_winner']=ipl[\"winner\"]\n",
    "sub['Predicted_winner'] = predicted_winner\n",
    "sub.to_csv('ipl2.csv',index=False)"
   ]
  },
  {
   "cell_type": "code",
   "execution_count": 76,
   "metadata": {},
   "outputs": [
    {
     "data": {
      "text/html": [
       "<div>\n",
       "<style scoped>\n",
       "    .dataframe tbody tr th:only-of-type {\n",
       "        vertical-align: middle;\n",
       "    }\n",
       "\n",
       "    .dataframe tbody tr th {\n",
       "        vertical-align: top;\n",
       "    }\n",
       "\n",
       "    .dataframe thead th {\n",
       "        text-align: right;\n",
       "    }\n",
       "</style>\n",
       "<table border=\"1\" class=\"dataframe\">\n",
       "  <thead>\n",
       "    <tr style=\"text-align: right;\">\n",
       "      <th></th>\n",
       "      <th>team1</th>\n",
       "      <th>team2</th>\n",
       "      <th>venue</th>\n",
       "      <th>toss_winner</th>\n",
       "      <th>city</th>\n",
       "      <th>toss_decision</th>\n",
       "      <th>date of match</th>\n",
       "      <th>actual_winner</th>\n",
       "      <th>Predicted_winner</th>\n",
       "    </tr>\n",
       "  </thead>\n",
       "  <tbody>\n",
       "    <tr>\n",
       "      <td>0</td>\n",
       "      <td>KXIP</td>\n",
       "      <td>MI</td>\n",
       "      <td>3</td>\n",
       "      <td>MI</td>\n",
       "      <td>3</td>\n",
       "      <td>0</td>\n",
       "      <td>11-Apr</td>\n",
       "      <td>MI</td>\n",
       "      <td>MI</td>\n",
       "    </tr>\n",
       "    <tr>\n",
       "      <td>1</td>\n",
       "      <td>SRH</td>\n",
       "      <td>RR</td>\n",
       "      <td>5</td>\n",
       "      <td>RR</td>\n",
       "      <td>5</td>\n",
       "      <td>0</td>\n",
       "      <td>27-Apr</td>\n",
       "      <td>RR</td>\n",
       "      <td>RR</td>\n",
       "    </tr>\n",
       "    <tr>\n",
       "      <td>2</td>\n",
       "      <td>KKR</td>\n",
       "      <td>MI</td>\n",
       "      <td>3</td>\n",
       "      <td>MI</td>\n",
       "      <td>3</td>\n",
       "      <td>0</td>\n",
       "      <td>05-May</td>\n",
       "      <td>MI</td>\n",
       "      <td>MI</td>\n",
       "    </tr>\n",
       "    <tr>\n",
       "      <td>3</td>\n",
       "      <td>CSK</td>\n",
       "      <td>MI</td>\n",
       "      <td>7</td>\n",
       "      <td>CSK</td>\n",
       "      <td>7</td>\n",
       "      <td>1</td>\n",
       "      <td>07-May</td>\n",
       "      <td>MI</td>\n",
       "      <td>CSK</td>\n",
       "    </tr>\n",
       "    <tr>\n",
       "      <td>4</td>\n",
       "      <td>DC</td>\n",
       "      <td>CSK</td>\n",
       "      <td>24</td>\n",
       "      <td>CSK</td>\n",
       "      <td>22</td>\n",
       "      <td>1</td>\n",
       "      <td>10-May</td>\n",
       "      <td>CSK</td>\n",
       "      <td>CSK</td>\n",
       "    </tr>\n",
       "  </tbody>\n",
       "</table>\n",
       "</div>"
      ],
      "text/plain": [
       "  team1 team2  venue toss_winner  city  toss_decision date of match  \\\n",
       "0  KXIP    MI      3          MI     3              0        11-Apr   \n",
       "1   SRH    RR      5          RR     5              0        27-Apr   \n",
       "2   KKR    MI      3          MI     3              0        05-May   \n",
       "3   CSK    MI      7         CSK     7              1        07-May   \n",
       "4    DC   CSK     24         CSK    22              1        10-May   \n",
       "\n",
       "  actual_winner Predicted_winner  \n",
       "0            MI               MI  \n",
       "1            RR               RR  \n",
       "2            MI               MI  \n",
       "3            MI              CSK  \n",
       "4           CSK              CSK  "
      ]
     },
     "execution_count": 76,
     "metadata": {},
     "output_type": "execute_result"
    }
   ],
   "source": [
    "sub.head(5)"
   ]
  },
  {
   "cell_type": "code",
   "execution_count": null,
   "metadata": {},
   "outputs": [],
   "source": []
  }
 ],
 "metadata": {
  "kernelspec": {
   "display_name": "Python 3",
   "language": "python",
   "name": "python3"
  },
  "language_info": {
   "codemirror_mode": {
    "name": "ipython",
    "version": 3
   },
   "file_extension": ".py",
   "mimetype": "text/x-python",
   "name": "python",
   "nbconvert_exporter": "python",
   "pygments_lexer": "ipython3",
   "version": "3.7.4"
  }
 },
 "nbformat": 4,
 "nbformat_minor": 2
}
